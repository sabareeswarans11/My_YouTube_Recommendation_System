{
 "cells": [
  {
   "cell_type": "markdown",
   "source": [],
   "metadata": {
    "collapsed": false
   }
  },
  {
   "cell_type": "markdown",
   "source": [
    "# Data Collection -YouTube\n",
    "    *Scraping Title, YouTube link ,Description for Different Categories\n",
    "    *This notebook contains Selenium scraping of raw data + Preprocessing individual categories and saving them in local as CSV.\n",
    "    * All the Preprocessed individual files will be under youtube_dataset_custom_scraped/preprocessed_individual/ Directory!"
   ],
   "metadata": {
    "collapsed": false,
    "pycharm": {
     "name": "#%% md\n"
    }
   }
  },
  {
   "cell_type": "code",
   "execution_count": 1,
   "outputs": [],
   "source": [
    "from selenium import webdriver\n",
    "import pandas as pd\n",
    "from selenium.webdriver.common.by import By\n",
    "from selenium.webdriver.support.ui import WebDriverWait\n",
    "from selenium.webdriver.support import expected_conditions as EC\n",
    "import re\n",
    "import string\n",
    "import ssl\n",
    "import nltk\n",
    "from nltk.tokenize import word_tokenize\n",
    "from nltk.corpus import stopwords\n",
    "from nltk.stem.wordnet import WordNetLemmatizer"
   ],
   "metadata": {
    "collapsed": false,
    "pycharm": {
     "name": "#%%\n"
    }
   }
  },
  {
   "cell_type": "markdown",
   "source": [
    "## Different Search Query for collecting all category data through Selenium driver."
   ],
   "metadata": {
    "collapsed": false,
    "pycharm": {
     "name": "#%% md\n"
    }
   }
  },
  {
   "cell_type": "raw",
   "source": [
    "1)film and animation :https://www.youtube.com/results?search_query=film+and+animation+&sp=EgIQAQ%253D%253D\n",
    "2)Machine Learning:https://www.youtube.com/results?search_query=machine+learning\n",
    "3)Deep Learning: https://www.youtube.com/results?search_query=deep+learning&sp=EgIQAQ%253D%253D\n",
    "4)Big Data :https://www.youtube.com/results?search_query=big+data+analytics&sp=EgIQAQ%253D%253D\n",
    "5)MKBHD:https://www.youtube.com/results?search_query=mkbhd&sp=EgIQAQ%253D%253D\n",
    "6)Food:https://www.youtube.com/results?search_query=food&sp=EgIQAQ%253D%253D\n",
    "7)Dance :https://www.youtube.com/results?search_query=art+and+dance+of+france&sp=EgIQAQ%253D%253D\n",
    "8)Car manufacturing :https://www.youtube.com/results?search_query=car+manufacturing&sp=EgIQAQ%253D%253D\n",
    "9)Science:https://www.youtube.com/results?search_query=science&sp=EgIQAQ%253D%253D\n",
    "10)Vlogs and Travel:https://www.youtube.com/results?search_query=tavel+&sp=EgIQAQ%253D%253D\n",
    "11)Biography:https://www.youtube.com/results?search_query=biography&sp=EgIQAQ%253D%253D\n",
    "12)LeedCode:https://www.youtube.com/results?search_query=leedcode&sp=EgIQAQ%253D%253D"
   ],
   "metadata": {
    "collapsed": false,
    "pycharm": {
     "name": "#%% raw\n"
    }
   }
  },
  {
   "cell_type": "code",
   "execution_count": 3,
   "outputs": [
    {
     "name": "stderr",
     "output_type": "stream",
     "text": [
      "/Users/sabareeswarans/Desktop/BD_Lab/venv/lib/python3.7/site-packages/ipykernel_launcher.py:1: DeprecationWarning: executable_path has been deprecated, please pass in a Service object\n",
      "  \"\"\"Entry point for launching an IPython kernel.\n"
     ]
    }
   ],
   "source": [
    "driver = webdriver.Chrome(executable_path='/Users/sabareeswarans/Desktop/BD_Lab/BD_final/chromedriver')\n",
    "driver.get(\"https://www.youtube.com/results?search_query=mkbhd&sp=EgIQAQ%253D%253D\")"
   ],
   "metadata": {
    "collapsed": false,
    "pycharm": {
     "name": "#%%\n"
    }
   }
  },
  {
   "cell_type": "code",
   "execution_count": 4,
   "outputs": [
    {
     "name": "stderr",
     "output_type": "stream",
     "text": [
      "/Users/sabareeswarans/Desktop/BD_Lab/venv/lib/python3.7/site-packages/ipykernel_launcher.py:2: DeprecationWarning: find_elements_by_xpath is deprecated. Please use find_elements(by=By.XPATH, value=xpath) instead\n",
      "  \n"
     ]
    },
    {
     "name": "stdout",
     "output_type": "stream",
     "text": [
      "519\n"
     ]
    }
   ],
   "source": [
    "# scraping as many Unique Youtube links\n",
    "data = driver.find_elements_by_xpath('//*[@id=\"video-title\"]')\n",
    "links = []\n",
    "for i in data:\n",
    "    links.append(i.get_attribute('href'))\n",
    "print(len(links))"
   ],
   "metadata": {
    "collapsed": false,
    "pycharm": {
     "name": "#%%\n"
    }
   }
  },
  {
   "cell_type": "code",
   "execution_count": null,
   "outputs": [],
   "source": [
    "# scraping YouTube data based on film and animation\n",
    "df_film_animation = pd.DataFrame(columns = ['link', 'title', 'description', 'catagory'])"
   ],
   "metadata": {
    "collapsed": false,
    "pycharm": {
     "name": "#%%\n"
    }
   }
  },
  {
   "cell_type": "code",
   "execution_count": 6,
   "outputs": [],
   "source": [
    "df_leed_code = pd.DataFrame(columns = ['link', 'title', 'description', 'catagory'])"
   ],
   "metadata": {
    "collapsed": false,
    "pycharm": {
     "name": "#%%\n"
    }
   }
  },
  {
   "cell_type": "code",
   "execution_count": 164,
   "outputs": [],
   "source": [
    "# scraping YouTube data based on film and animation\n",
    "df_big_data = pd.DataFrame(columns = ['link', 'title', 'description', 'catagory'])"
   ],
   "metadata": {
    "collapsed": false,
    "pycharm": {
     "name": "#%%\n"
    }
   }
  },
  {
   "cell_type": "code",
   "execution_count": 176,
   "outputs": [],
   "source": [
    "# scraping YouTube data based on film and animation\n",
    "df_mkbh = pd.DataFrame(columns = ['link', 'title', 'description', 'catagory'])"
   ],
   "metadata": {
    "collapsed": false,
    "pycharm": {
     "name": "#%%\n"
    }
   }
  },
  {
   "cell_type": "code",
   "execution_count": 155,
   "outputs": [],
   "source": [
    "# scraping YouTube data based on film and animation\n",
    "df_deep_learning = pd.DataFrame(columns = ['link', 'title', 'description', 'catagory'])"
   ],
   "metadata": {
    "collapsed": false,
    "pycharm": {
     "name": "#%%\n"
    }
   }
  },
  {
   "cell_type": "code",
   "execution_count": 144,
   "outputs": [],
   "source": [
    "# scraping YouTube data based on Machine Learning\n",
    "df_machine_learning = pd.DataFrame(columns = ['link', 'title', 'description', 'catagory'])"
   ],
   "metadata": {
    "collapsed": false,
    "pycharm": {
     "name": "#%%\n"
    }
   }
  },
  {
   "cell_type": "code",
   "execution_count": 183,
   "outputs": [],
   "source": [
    "# scraping YouTube data based on Machine Learning\n",
    "df_food = pd.DataFrame(columns = ['link', 'title', 'description', 'catagory'])"
   ],
   "metadata": {
    "collapsed": false,
    "pycharm": {
     "name": "#%%\n"
    }
   }
  },
  {
   "cell_type": "code",
   "execution_count": null,
   "outputs": [],
   "source": [
    "df_biography=pd.DataFrame(columns = ['link', 'title', 'description', 'catagory'])"
   ],
   "metadata": {
    "collapsed": false,
    "pycharm": {
     "name": "#%%\n"
    }
   }
  },
  {
   "cell_type": "code",
   "execution_count": null,
   "outputs": [],
   "source": [
    "df_car=pd.DataFrame(columns = ['link', 'title', 'description', 'catagory'])"
   ],
   "metadata": {
    "collapsed": false,
    "pycharm": {
     "name": "#%%\n"
    }
   }
  },
  {
   "cell_type": "code",
   "execution_count": null,
   "outputs": [],
   "source": [
    "df_dance=pd.DataFrame(columns = ['link', 'title', 'description', 'catagory'])"
   ],
   "metadata": {
    "collapsed": false,
    "pycharm": {
     "name": "#%%\n"
    }
   }
  },
  {
   "cell_type": "code",
   "execution_count": null,
   "outputs": [],
   "source": [
    "df_food2=pd.DataFrame(columns = ['link', 'title', 'description', 'catagory'])"
   ],
   "metadata": {
    "collapsed": false,
    "pycharm": {
     "name": "#%%\n"
    }
   }
  },
  {
   "cell_type": "code",
   "execution_count": null,
   "outputs": [],
   "source": [
    "df_sci=pd.DataFrame(columns = ['link', 'title', 'description', 'catagory'])"
   ],
   "metadata": {
    "collapsed": false,
    "pycharm": {
     "name": "#%%\n"
    }
   }
  },
  {
   "cell_type": "code",
   "execution_count": null,
   "outputs": [],
   "source": [
    "df_vlogs=pd.DataFrame(columns = ['link', 'title', 'description', 'catagory'])"
   ],
   "metadata": {
    "collapsed": false,
    "pycharm": {
     "name": "#%%\n"
    }
   }
  },
  {
   "cell_type": "code",
   "execution_count": 7,
   "outputs": [],
   "source": [
    "df_mkbhd2=pd.DataFrame(columns = ['link', 'title', 'description', 'catagory'])"
   ],
   "metadata": {
    "collapsed": false,
    "pycharm": {
     "name": "#%%\n"
    }
   }
  },
  {
   "cell_type": "code",
   "execution_count": 5,
   "outputs": [],
   "source": [
    "from selenium.common.exceptions import TimeoutException\n",
    "from selenium.webdriver.support.ui import WebDriverWait"
   ],
   "metadata": {
    "collapsed": false,
    "pycharm": {
     "name": "#%%\n"
    }
   }
  },
  {
   "cell_type": "code",
   "execution_count": 6,
   "outputs": [
    {
     "name": "stdout",
     "output_type": "stream",
     "text": [
      "519\n"
     ]
    }
   ],
   "source": [
    "filtered_list=[]\n",
    "\n",
    "for elt in links:\n",
    "    if elt != None:\n",
    "        filtered_list.append(elt)\n",
    "print(len(filtered_list))"
   ],
   "metadata": {
    "collapsed": false,
    "pycharm": {
     "name": "#%%\n"
    }
   }
  },
  {
   "cell_type": "code",
   "execution_count": 8,
   "outputs": [
    {
     "ename": "KeyboardInterrupt",
     "evalue": "",
     "output_type": "error",
     "traceback": [
      "\u001B[0;31m---------------------------------------------------------------------------\u001B[0m",
      "\u001B[0;31mKeyboardInterrupt\u001B[0m                         Traceback (most recent call last)",
      "\u001B[0;32m/var/folders/k8/z4s2rvsd2kg5f08kcs3q0chw0000gn/T/ipykernel_242/1121524309.py\u001B[0m in \u001B[0;36m<module>\u001B[0;34m\u001B[0m\n\u001B[1;32m      6\u001B[0m     \u001B[0mdriver\u001B[0m\u001B[0;34m.\u001B[0m\u001B[0mget\u001B[0m\u001B[0;34m(\u001B[0m\u001B[0mx\u001B[0m\u001B[0;34m)\u001B[0m\u001B[0;34m\u001B[0m\u001B[0;34m\u001B[0m\u001B[0m\n\u001B[1;32m      7\u001B[0m     \u001B[0mv_id\u001B[0m \u001B[0;34m=\u001B[0m \u001B[0mx\u001B[0m\u001B[0;34m.\u001B[0m\u001B[0mstrip\u001B[0m\u001B[0;34m(\u001B[0m\u001B[0;34m'https://www.youtube.com/watch?v='\u001B[0m\u001B[0;34m)\u001B[0m\u001B[0;34m\u001B[0m\u001B[0;34m\u001B[0m\u001B[0m\n\u001B[0;32m----> 8\u001B[0;31m     \u001B[0mv_title\u001B[0m \u001B[0;34m=\u001B[0m \u001B[0mwait\u001B[0m\u001B[0;34m.\u001B[0m\u001B[0muntil\u001B[0m\u001B[0;34m(\u001B[0m\u001B[0mEC\u001B[0m\u001B[0;34m.\u001B[0m\u001B[0mpresence_of_element_located\u001B[0m\u001B[0;34m(\u001B[0m\u001B[0;34m(\u001B[0m\u001B[0mBy\u001B[0m\u001B[0;34m.\u001B[0m\u001B[0mCSS_SELECTOR\u001B[0m\u001B[0;34m,\u001B[0m\u001B[0;34m\"h1.title.style-scope.ytd-video-primary-info-renderer > yt-formatted-string.style-scope.ytd-video-primary-info-renderer\"\u001B[0m\u001B[0;34m)\u001B[0m\u001B[0;34m)\u001B[0m\u001B[0;34m)\u001B[0m\u001B[0;34m.\u001B[0m\u001B[0mtext\u001B[0m\u001B[0;34m\u001B[0m\u001B[0;34m\u001B[0m\u001B[0m\n\u001B[0m\u001B[1;32m      9\u001B[0m     \u001B[0mv_description\u001B[0m \u001B[0;34m=\u001B[0m \u001B[0mwait\u001B[0m\u001B[0;34m.\u001B[0m\u001B[0muntil\u001B[0m\u001B[0;34m(\u001B[0m\u001B[0mEC\u001B[0m\u001B[0;34m.\u001B[0m\u001B[0mpresence_of_element_located\u001B[0m\u001B[0;34m(\u001B[0m\u001B[0;34m(\u001B[0m\u001B[0mBy\u001B[0m\u001B[0;34m.\u001B[0m\u001B[0mCSS_SELECTOR\u001B[0m\u001B[0;34m,\u001B[0m\u001B[0;34m\"div#description yt-formatted-string\"\u001B[0m\u001B[0;34m)\u001B[0m\u001B[0;34m)\u001B[0m\u001B[0;34m)\u001B[0m\u001B[0;34m.\u001B[0m\u001B[0mtext\u001B[0m\u001B[0;34m\u001B[0m\u001B[0;34m\u001B[0m\u001B[0m\n\u001B[1;32m     10\u001B[0m     \u001B[0mdf_mkbhd2\u001B[0m\u001B[0;34m.\u001B[0m\u001B[0mloc\u001B[0m\u001B[0;34m[\u001B[0m\u001B[0mlen\u001B[0m\u001B[0;34m(\u001B[0m\u001B[0mdf_mkbhd2\u001B[0m\u001B[0;34m)\u001B[0m\u001B[0;34m]\u001B[0m \u001B[0;34m=\u001B[0m \u001B[0;34m[\u001B[0m\u001B[0mv_id\u001B[0m\u001B[0;34m,\u001B[0m \u001B[0mv_title\u001B[0m\u001B[0;34m,\u001B[0m \u001B[0mv_description\u001B[0m\u001B[0;34m,\u001B[0m \u001B[0mv_category\u001B[0m\u001B[0;34m]\u001B[0m\u001B[0;34m\u001B[0m\u001B[0;34m\u001B[0m\u001B[0m\n",
      "\u001B[0;32m~/Desktop/BD_Lab/venv/lib/python3.7/site-packages/selenium/webdriver/support/wait.py\u001B[0m in \u001B[0;36muntil\u001B[0;34m(self, method, message)\u001B[0m\n\u001B[1;32m     84\u001B[0m                 \u001B[0mscreen\u001B[0m \u001B[0;34m=\u001B[0m \u001B[0mgetattr\u001B[0m\u001B[0;34m(\u001B[0m\u001B[0mexc\u001B[0m\u001B[0;34m,\u001B[0m \u001B[0;34m'screen'\u001B[0m\u001B[0;34m,\u001B[0m \u001B[0;32mNone\u001B[0m\u001B[0;34m)\u001B[0m\u001B[0;34m\u001B[0m\u001B[0;34m\u001B[0m\u001B[0m\n\u001B[1;32m     85\u001B[0m                 \u001B[0mstacktrace\u001B[0m \u001B[0;34m=\u001B[0m \u001B[0mgetattr\u001B[0m\u001B[0;34m(\u001B[0m\u001B[0mexc\u001B[0m\u001B[0;34m,\u001B[0m \u001B[0;34m'stacktrace'\u001B[0m\u001B[0;34m,\u001B[0m \u001B[0;32mNone\u001B[0m\u001B[0;34m)\u001B[0m\u001B[0;34m\u001B[0m\u001B[0;34m\u001B[0m\u001B[0m\n\u001B[0;32m---> 86\u001B[0;31m             \u001B[0mtime\u001B[0m\u001B[0;34m.\u001B[0m\u001B[0msleep\u001B[0m\u001B[0;34m(\u001B[0m\u001B[0mself\u001B[0m\u001B[0;34m.\u001B[0m\u001B[0m_poll\u001B[0m\u001B[0;34m)\u001B[0m\u001B[0;34m\u001B[0m\u001B[0;34m\u001B[0m\u001B[0m\n\u001B[0m\u001B[1;32m     87\u001B[0m             \u001B[0;32mif\u001B[0m \u001B[0mtime\u001B[0m\u001B[0;34m.\u001B[0m\u001B[0mtime\u001B[0m\u001B[0;34m(\u001B[0m\u001B[0;34m)\u001B[0m \u001B[0;34m>\u001B[0m \u001B[0mend_time\u001B[0m\u001B[0;34m:\u001B[0m\u001B[0;34m\u001B[0m\u001B[0;34m\u001B[0m\u001B[0m\n\u001B[1;32m     88\u001B[0m                 \u001B[0;32mbreak\u001B[0m\u001B[0;34m\u001B[0m\u001B[0;34m\u001B[0m\u001B[0m\n",
      "\u001B[0;31mKeyboardInterrupt\u001B[0m: "
     ]
    }
   ],
   "source": [
    "wait = WebDriverWait(driver, 10)\n",
    "## change\n",
    "v_category = \"MKBHD2\"\n",
    "for x in filtered_list:\n",
    "    #Extract dates from for each user on a page\n",
    "    driver.get(x)\n",
    "    v_id = x.strip('https://www.youtube.com/watch?v=')\n",
    "    v_title = wait.until(EC.presence_of_element_located((By.CSS_SELECTOR,\"h1.title.style-scope.ytd-video-primary-info-renderer > yt-formatted-string.style-scope.ytd-video-primary-info-renderer\"))).text\n",
    "    v_description = wait.until(EC.presence_of_element_located((By.CSS_SELECTOR,\"div#description yt-formatted-string\"))).text\n",
    "    df_mkbhd2.loc[len(df_mkbhd2)] = [v_id, v_title, v_description, v_category]\n",
    "print(\"YouTube data Scraped Over!\")"
   ],
   "metadata": {
    "collapsed": false,
    "pycharm": {
     "name": "#%%\n"
    }
   }
  },
  {
   "cell_type": "code",
   "execution_count": 150,
   "outputs": [
    {
     "data": {
      "text/plain": "(701, 4)"
     },
     "execution_count": 150,
     "metadata": {},
     "output_type": "execute_result"
    }
   ],
   "source": [
    "df_machine_learning.shape"
   ],
   "metadata": {
    "collapsed": false,
    "pycharm": {
     "name": "#%%\n"
    }
   }
  },
  {
   "cell_type": "code",
   "execution_count": 168,
   "outputs": [
    {
     "data": {
      "text/plain": "(576, 4)"
     },
     "execution_count": 168,
     "metadata": {},
     "output_type": "execute_result"
    }
   ],
   "source": [
    "df_big_data.shape"
   ],
   "metadata": {
    "collapsed": false,
    "pycharm": {
     "name": "#%%\n"
    }
   }
  },
  {
   "cell_type": "code",
   "execution_count": 152,
   "outputs": [
    {
     "data": {
      "text/plain": "(568, 4)"
     },
     "execution_count": 152,
     "metadata": {},
     "output_type": "execute_result"
    }
   ],
   "source": [
    "df_film_animation.shape"
   ],
   "metadata": {
    "collapsed": false,
    "pycharm": {
     "name": "#%%\n"
    }
   }
  },
  {
   "cell_type": "code",
   "execution_count": 159,
   "outputs": [
    {
     "data": {
      "text/plain": "(605, 4)"
     },
     "execution_count": 159,
     "metadata": {},
     "output_type": "execute_result"
    }
   ],
   "source": [
    "df_deep_learning.shape"
   ],
   "metadata": {
    "collapsed": false,
    "pycharm": {
     "name": "#%%\n"
    }
   }
  },
  {
   "cell_type": "code",
   "execution_count": 179,
   "outputs": [
    {
     "data": {
      "text/plain": "(614, 4)"
     },
     "execution_count": 179,
     "metadata": {},
     "output_type": "execute_result"
    }
   ],
   "source": [
    "df_mkbh.shape"
   ],
   "metadata": {
    "collapsed": false,
    "pycharm": {
     "name": "#%%\n"
    }
   }
  },
  {
   "cell_type": "code",
   "execution_count": 187,
   "outputs": [
    {
     "data": {
      "text/plain": "(519, 4)"
     },
     "execution_count": 187,
     "metadata": {},
     "output_type": "execute_result"
    }
   ],
   "source": [
    "df_food.shape"
   ],
   "metadata": {
    "collapsed": false,
    "pycharm": {
     "name": "#%%\n"
    }
   }
  },
  {
   "cell_type": "code",
   "execution_count": 10,
   "outputs": [
    {
     "data": {
      "text/plain": "(561, 4)"
     },
     "execution_count": 10,
     "metadata": {},
     "output_type": "execute_result"
    }
   ],
   "source": [
    "df_leed_code.shape"
   ],
   "metadata": {
    "collapsed": false,
    "pycharm": {
     "name": "#%%\n"
    }
   }
  },
  {
   "cell_type": "code",
   "execution_count": 203,
   "outputs": [
    {
     "data": {
      "text/plain": "                link                                              title  \\\n0        6M5VXKLf4D4  Deep Learning In 5 Minutes | What Is Deep Lear...   \n1         ircAruvnKk  But what is a neural network? | Chapter 1, Dee...   \n2        7sB052Pz0sQ         MIT Introduction to Deep Learning | 6.S191   \n3         VyWAvY2CF9           Deep Learning Crash Course for Beginners   \n4        O5xeyoRL95U    Deep Learning Basics: Introduction and Overview   \n..               ...                                                ...   \n600      U4H5hCZxLlI  L25 Unsupervised Learning and Variational Auto...   \n601      ZKpKCeSWqZ4  L14 RNNs Part I | Dhruv Batra | Deep Learning ...   \n602      WNSlnzABRbI  L21 Reinforcement Learning Part II | Nirbhay M...   \n603  rts/ZibS01YgZhk                                                NaN   \n604   rts/F6mErBBzdW                                                NaN   \n\n                                           description            catagory  \n0    🔥 Enroll for FREE Artificial Intelligence Cour...  film and animation  \n1    What are the neurons, why are there layers, an...  film and animation  \n2    MIT Introduction to Deep Learning 6.S191: Lect...  film and animation  \n3    Learn the fundamental concepts and terminology...  film and animation  \n4    An introductory lecture for MIT course 6.S094 ...  film and animation  \n..                                                 ...                 ...  \n600                                                NaN  film and animation  \n601                                                NaN  film and animation  \n602                                                NaN  film and animation  \n603                                                NaN  film and animation  \n604                                                NaN  film and animation  \n\n[605 rows x 4 columns]",
      "text/html": "<div>\n<style scoped>\n    .dataframe tbody tr th:only-of-type {\n        vertical-align: middle;\n    }\n\n    .dataframe tbody tr th {\n        vertical-align: top;\n    }\n\n    .dataframe thead th {\n        text-align: right;\n    }\n</style>\n<table border=\"1\" class=\"dataframe\">\n  <thead>\n    <tr style=\"text-align: right;\">\n      <th></th>\n      <th>link</th>\n      <th>title</th>\n      <th>description</th>\n      <th>catagory</th>\n    </tr>\n  </thead>\n  <tbody>\n    <tr>\n      <th>0</th>\n      <td>6M5VXKLf4D4</td>\n      <td>Deep Learning In 5 Minutes | What Is Deep Lear...</td>\n      <td>🔥 Enroll for FREE Artificial Intelligence Cour...</td>\n      <td>film and animation</td>\n    </tr>\n    <tr>\n      <th>1</th>\n      <td>ircAruvnKk</td>\n      <td>But what is a neural network? | Chapter 1, Dee...</td>\n      <td>What are the neurons, why are there layers, an...</td>\n      <td>film and animation</td>\n    </tr>\n    <tr>\n      <th>2</th>\n      <td>7sB052Pz0sQ</td>\n      <td>MIT Introduction to Deep Learning | 6.S191</td>\n      <td>MIT Introduction to Deep Learning 6.S191: Lect...</td>\n      <td>film and animation</td>\n    </tr>\n    <tr>\n      <th>3</th>\n      <td>VyWAvY2CF9</td>\n      <td>Deep Learning Crash Course for Beginners</td>\n      <td>Learn the fundamental concepts and terminology...</td>\n      <td>film and animation</td>\n    </tr>\n    <tr>\n      <th>4</th>\n      <td>O5xeyoRL95U</td>\n      <td>Deep Learning Basics: Introduction and Overview</td>\n      <td>An introductory lecture for MIT course 6.S094 ...</td>\n      <td>film and animation</td>\n    </tr>\n    <tr>\n      <th>...</th>\n      <td>...</td>\n      <td>...</td>\n      <td>...</td>\n      <td>...</td>\n    </tr>\n    <tr>\n      <th>600</th>\n      <td>U4H5hCZxLlI</td>\n      <td>L25 Unsupervised Learning and Variational Auto...</td>\n      <td>NaN</td>\n      <td>film and animation</td>\n    </tr>\n    <tr>\n      <th>601</th>\n      <td>ZKpKCeSWqZ4</td>\n      <td>L14 RNNs Part I | Dhruv Batra | Deep Learning ...</td>\n      <td>NaN</td>\n      <td>film and animation</td>\n    </tr>\n    <tr>\n      <th>602</th>\n      <td>WNSlnzABRbI</td>\n      <td>L21 Reinforcement Learning Part II | Nirbhay M...</td>\n      <td>NaN</td>\n      <td>film and animation</td>\n    </tr>\n    <tr>\n      <th>603</th>\n      <td>rts/ZibS01YgZhk</td>\n      <td>NaN</td>\n      <td>NaN</td>\n      <td>film and animation</td>\n    </tr>\n    <tr>\n      <th>604</th>\n      <td>rts/F6mErBBzdW</td>\n      <td>NaN</td>\n      <td>NaN</td>\n      <td>film and animation</td>\n    </tr>\n  </tbody>\n</table>\n<p>605 rows × 4 columns</p>\n</div>"
     },
     "execution_count": 203,
     "metadata": {},
     "output_type": "execute_result"
    }
   ],
   "source": [
    "df2 = pd.read_csv('/Users/sabareeswarans/Desktop/BD_Lab/BD_final/youtube_dataset_custom_scraped/dl.csv')\n",
    "df2"
   ],
   "metadata": {
    "collapsed": false,
    "pycharm": {
     "name": "#%%\n"
    }
   }
  },
  {
   "cell_type": "code",
   "execution_count": 204,
   "outputs": [],
   "source": [
    "df2['catagory'] = df2['catagory'].map({'film and animation': 'deep learning'})"
   ],
   "metadata": {
    "collapsed": false,
    "pycharm": {
     "name": "#%%\n"
    }
   }
  },
  {
   "cell_type": "code",
   "execution_count": 200,
   "outputs": [
    {
     "data": {
      "text/plain": "                link                                              title  \\\n0        GwIo3gDZCVQ  Machine Learning Full Course - Learn Machine L...   \n1        7eh4d6sabA0    Python Machine Learning Tutorial (Data Science)   \n2        PmlRbfSavbI  Stealing Baseball Signs with a Phone (Machine ...   \n3         ircAruvnKk  But what is a neural network? | Chapter 1, Dee...   \n4        5q87K1WaoFI  Computer Scientist Explains Machine Learning i...   \n..               ...                                                ...   \n696  rts/lQEZuU6SCwg                                                NaN   \n697      Rtj8meUQ_vQ       Machine Learning en la salud | Chichi Cuello   \n698  rts/XE2rq055qsE                                                NaN   \n699      Lp9Ftuq2sVI  Project 1: Iron Man Jarvis AI Desktop Voice As...   \n700       nO0tJSIO_k  V-Learning: Simple, Efficient, Decentralized A...   \n\n                                           description            catagory  \n0    🔥 Machine Learning Engineer Masters Program (U...  film and animation  \n1    Python Machine Learning Tutorial  - Learn how ...  film and animation  \n2    I always sucked at baseball... until now... ok...  film and animation  \n3    What are the neurons, why are there layers, an...  film and animation  \n4    WIRED has challenged computer scientist and Hi...  film and animation  \n..                                                 ...                 ...  \n696                                                NaN  film and animation  \n697  En esta ocasión aprendamos desde los conceptos...  film and animation  \n698                                                NaN  film and animation  \n699  This python AI project will teach you how to m...  film and animation  \n700  Chi Jin (Princeton University)\\nhttps://simons...  film and animation  \n\n[701 rows x 4 columns]",
      "text/html": "<div>\n<style scoped>\n    .dataframe tbody tr th:only-of-type {\n        vertical-align: middle;\n    }\n\n    .dataframe tbody tr th {\n        vertical-align: top;\n    }\n\n    .dataframe thead th {\n        text-align: right;\n    }\n</style>\n<table border=\"1\" class=\"dataframe\">\n  <thead>\n    <tr style=\"text-align: right;\">\n      <th></th>\n      <th>link</th>\n      <th>title</th>\n      <th>description</th>\n      <th>catagory</th>\n    </tr>\n  </thead>\n  <tbody>\n    <tr>\n      <th>0</th>\n      <td>GwIo3gDZCVQ</td>\n      <td>Machine Learning Full Course - Learn Machine L...</td>\n      <td>🔥 Machine Learning Engineer Masters Program (U...</td>\n      <td>film and animation</td>\n    </tr>\n    <tr>\n      <th>1</th>\n      <td>7eh4d6sabA0</td>\n      <td>Python Machine Learning Tutorial (Data Science)</td>\n      <td>Python Machine Learning Tutorial  - Learn how ...</td>\n      <td>film and animation</td>\n    </tr>\n    <tr>\n      <th>2</th>\n      <td>PmlRbfSavbI</td>\n      <td>Stealing Baseball Signs with a Phone (Machine ...</td>\n      <td>I always sucked at baseball... until now... ok...</td>\n      <td>film and animation</td>\n    </tr>\n    <tr>\n      <th>3</th>\n      <td>ircAruvnKk</td>\n      <td>But what is a neural network? | Chapter 1, Dee...</td>\n      <td>What are the neurons, why are there layers, an...</td>\n      <td>film and animation</td>\n    </tr>\n    <tr>\n      <th>4</th>\n      <td>5q87K1WaoFI</td>\n      <td>Computer Scientist Explains Machine Learning i...</td>\n      <td>WIRED has challenged computer scientist and Hi...</td>\n      <td>film and animation</td>\n    </tr>\n    <tr>\n      <th>...</th>\n      <td>...</td>\n      <td>...</td>\n      <td>...</td>\n      <td>...</td>\n    </tr>\n    <tr>\n      <th>696</th>\n      <td>rts/lQEZuU6SCwg</td>\n      <td>NaN</td>\n      <td>NaN</td>\n      <td>film and animation</td>\n    </tr>\n    <tr>\n      <th>697</th>\n      <td>Rtj8meUQ_vQ</td>\n      <td>Machine Learning en la salud | Chichi Cuello</td>\n      <td>En esta ocasión aprendamos desde los conceptos...</td>\n      <td>film and animation</td>\n    </tr>\n    <tr>\n      <th>698</th>\n      <td>rts/XE2rq055qsE</td>\n      <td>NaN</td>\n      <td>NaN</td>\n      <td>film and animation</td>\n    </tr>\n    <tr>\n      <th>699</th>\n      <td>Lp9Ftuq2sVI</td>\n      <td>Project 1: Iron Man Jarvis AI Desktop Voice As...</td>\n      <td>This python AI project will teach you how to m...</td>\n      <td>film and animation</td>\n    </tr>\n    <tr>\n      <th>700</th>\n      <td>nO0tJSIO_k</td>\n      <td>V-Learning: Simple, Efficient, Decentralized A...</td>\n      <td>Chi Jin (Princeton University)\\nhttps://simons...</td>\n      <td>film and animation</td>\n    </tr>\n  </tbody>\n</table>\n<p>701 rows × 4 columns</p>\n</div>"
     },
     "execution_count": 200,
     "metadata": {},
     "output_type": "execute_result"
    }
   ],
   "source": [
    "#df_machine_learning['catagory'] = df_machine_learning['catagory'].map({'NaN': 'machine learning'})\n",
    "df = pd.read_csv('/Users/sabareeswarans/Desktop/BD_Lab/BD_final/youtube_dataset_custom_scraped/ml.csv')\n",
    "df"
   ],
   "metadata": {
    "collapsed": false,
    "pycharm": {
     "name": "#%%\n"
    }
   }
  },
  {
   "cell_type": "code",
   "execution_count": 201,
   "outputs": [],
   "source": [
    "df['catagory'] = df['catagory'].map({'film and animation': 'machine learning'})"
   ],
   "metadata": {
    "collapsed": false,
    "pycharm": {
     "name": "#%%\n"
    }
   }
  },
  {
   "cell_type": "code",
   "execution_count": 207,
   "outputs": [],
   "source": [
    "#df_big_data['catagory'] = df_big_data['catagory'].map({'film and animation': 'big data'})"
   ],
   "metadata": {
    "collapsed": false,
    "pycharm": {
     "name": "#%%\n"
    }
   }
  },
  {
   "cell_type": "code",
   "execution_count": 210,
   "outputs": [],
   "source": [
    "df_mkbh['catagory'] = df_mkbh['catagory'].map({'film and animation': 'mkbhd'})"
   ],
   "metadata": {
    "collapsed": false,
    "pycharm": {
     "name": "#%%\n"
    }
   }
  },
  {
   "cell_type": "code",
   "execution_count": null,
   "outputs": [],
   "source": [
    "# store scraped data to csv (backup)\n",
    "df_film_animation.to_csv('/Users/sabareeswarans/Desktop/BD_Lab/BD_final/youtube_dataset_custom_scraped/film_and_animation.csv',index=False)"
   ],
   "metadata": {
    "collapsed": false,
    "pycharm": {
     "name": "#%%\n"
    }
   }
  },
  {
   "cell_type": "code",
   "execution_count": 202,
   "outputs": [],
   "source": [
    "# store scraped data to csv (backup)\n",
    "df.to_csv('/Users/sabareeswarans/Desktop/BD_Lab/BD_final/youtube_dataset_custom_scraped/ml.csv',index=False)"
   ],
   "metadata": {
    "collapsed": false,
    "pycharm": {
     "name": "#%%\n"
    }
   }
  },
  {
   "cell_type": "code",
   "execution_count": 205,
   "outputs": [],
   "source": [
    "# store scraped data to csv (backup)\n",
    "df2.to_csv('/Users/sabareeswarans/Desktop/BD_Lab/BD_final/youtube_dataset_custom_scraped/dl.csv',index=False)"
   ],
   "metadata": {
    "collapsed": false,
    "pycharm": {
     "name": "#%%\n"
    }
   }
  },
  {
   "cell_type": "code",
   "execution_count": 208,
   "outputs": [],
   "source": [
    "# store scraped data to csv (backup)\n",
    "df_big_data.to_csv('/Users/sabareeswarans/Desktop/BD_Lab/BD_final/youtube_dataset_custom_scraped/bd.csv',index=False)"
   ],
   "metadata": {
    "collapsed": false,
    "pycharm": {
     "name": "#%%\n"
    }
   }
  },
  {
   "cell_type": "code",
   "execution_count": 211,
   "outputs": [],
   "source": [
    "# store scraped data to csv (backup)\n",
    "df_mkbh.to_csv('/Users/sabareeswarans/Desktop/BD_Lab/BD_final/youtube_dataset_custom_scraped/mkbhd.csv',index=False)"
   ],
   "metadata": {
    "collapsed": false,
    "pycharm": {
     "name": "#%%\n"
    }
   }
  },
  {
   "cell_type": "code",
   "execution_count": 188,
   "outputs": [],
   "source": [
    "# store scraped data to csv (backup)\n",
    "df_food.to_csv('/Users/sabareeswarans/Desktop/BD_Lab/BD_final/youtube_dataset_custom_scraped/food.csv', index=False)"
   ],
   "metadata": {
    "collapsed": false,
    "pycharm": {
     "name": "#%%\n"
    }
   }
  },
  {
   "cell_type": "code",
   "execution_count": 11,
   "outputs": [],
   "source": [
    "# store scraped data to csv (backup)\n",
    "df_leed_code.to_csv('/Users/sabareeswarans/Desktop/BD_Lab/BD_final/youtube_dataset_custom_scraped/leedcode.csv', index=False)"
   ],
   "metadata": {
    "collapsed": false,
    "pycharm": {
     "name": "#%%\n"
    }
   }
  },
  {
   "cell_type": "code",
   "source": [
    "# Custom PreProcessing function\n",
    "def raw_preprocessing(dataframe,filename):\n",
    "    #Change to lowercase\n",
    "    dataframe['title'] = dataframe['title'].map(lambda x: x.lower())\n",
    "    dataframe['description'] = dataframe['description'].map(lambda x: x.lower())\n",
    "\n",
    "    # Remove numbers\n",
    "    dataframe['title'] = dataframe['title'].map(lambda x: re.sub(r'\\d+', '', x))\n",
    "    dataframe['description'] = dataframe['description'].map(lambda x: re.sub(r'\\d+', '', x))\n",
    "\n",
    "    # Remove Punctuation\n",
    "    dataframe['title']  = dataframe['title'].map(lambda x: x.translate(x.maketrans('', '', string.punctuation)))\n",
    "    dataframe['description']  = dataframe['description'].map(lambda x: x.translate(x.maketrans('', '', string.punctuation)))\n",
    "\n",
    "    # Remove white spaces\n",
    "    dataframe['title'] = dataframe['title'].map(lambda x: x.strip())\n",
    "    dataframe['description'] = dataframe['description'].map(lambda x: x.strip())\n",
    "\n",
    "    # Tokenize into words\n",
    "    dataframe['title'] = dataframe['title'].map(lambda x: word_tokenize(x))\n",
    "    dataframe['description'] = dataframe['description'].map(lambda x: word_tokenize(x))\n",
    "\n",
    "    # Remove non alphabetic tokens\n",
    "    dataframe['title'] = dataframe['title'].map(lambda x: [word for word in x if word.isalpha()])\n",
    "    dataframe['description'] = dataframe['description'].map(lambda x: [word for word in x if word.isalpha()])\n",
    "\n",
    "    # filter out stop words\n",
    "    stop_words = set(stopwords.words('english'))\n",
    "    dataframe['title'] = dataframe['title'].map(lambda x: [w for w in x if not w in stop_words])\n",
    "    dataframe['description'] = dataframe['description'].map(lambda x: [w for w in x if not w in stop_words])\n",
    "\n",
    "    # Word Lemmatization\n",
    "    lem = WordNetLemmatizer()\n",
    "    dataframe['title'] = dataframe['title'].map(lambda x: [lem.lemmatize(word,\"v\") for word in x])\n",
    "    dataframe['description'] = dataframe['description'].map(lambda x: [lem.lemmatize(word,\"v\") for word in x])\n",
    "\n",
    "    # Turn lists back to string\n",
    "    dataframe['title'] = dataframe['title'].map(lambda x: ' '.join(x))\n",
    "    dataframe['description'] = dataframe['description'].map(lambda x: ' '.join(x))\n",
    "    print(dataframe.shape)\n",
    "    dataframe.to_csv('/Users/sabareeswarans/Desktop/BD_Lab/BD_final/youtube_dataset_custom_scraped/preprocessed_individual/'+filename+'.csv', index=False)"
   ],
   "metadata": {
    "collapsed": false,
    "pycharm": {
     "name": "#%%\n"
    }
   },
   "execution_count": null,
   "outputs": []
  },
  {
   "cell_type": "markdown",
   "source": [
    "## Similarly all the other categories were scraped by selenium and preprocessed and saved individually by the below code."
   ],
   "metadata": {
    "collapsed": false,
    "pycharm": {
     "name": "#%% md\n"
    }
   }
  },
  {
   "cell_type": "code",
   "execution_count": 196,
   "outputs": [],
   "source": [
    "# Scraped Data is pp and saved individually.\n",
    "\n",
    "# for scraped mkbd raw category\n",
    "print('No of Null data in film and animation category:\\n',df_biography.isnull().sum())\n",
    "# Filling Null Valuesf\n",
    "df_biography['description']=df_biography['description'].fillna(' ')\n",
    "# drop the rows where title value is NAN/ NULL\n",
    "df_biography = df_biography.dropna(subset=['title'])\n",
    "df_biography = df_biography.reset_index(drop=True)\n",
    "print('Removed all null Values in deep learning category:\\n',df_biography.isnull().sum())\n",
    "\n",
    "## Preprocessing - calling the Preprocessor function\n",
    "raw_preprocessing(df_biography,'mkbhd_pp')\n",
    "print(\"Preprocessing of food done and save under youtube_dataset_custom_scraped/preprocessed_individual !\")\n",
    "\n"
   ],
   "metadata": {
    "collapsed": false,
    "pycharm": {
     "name": "#%%\n"
    }
   }
  }
 ],
 "metadata": {
  "kernelspec": {
   "display_name": "Python 3",
   "language": "python",
   "name": "python3"
  },
  "language_info": {
   "codemirror_mode": {
    "name": "ipython",
    "version": 2
   },
   "file_extension": ".py",
   "mimetype": "text/x-python",
   "name": "python",
   "nbconvert_exporter": "python",
   "pygments_lexer": "ipython2",
   "version": "2.7.6"
  }
 },
 "nbformat": 4,
 "nbformat_minor": 0
}