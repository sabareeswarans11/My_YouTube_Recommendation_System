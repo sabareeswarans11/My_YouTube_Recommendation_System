{
 "cells": [
  {
   "cell_type": "markdown",
   "source": [
    "# Data Preprocessing\n",
    "    * This notebook Processes the Raw data into Normalized data for different categories.\n",
    "    * Combine all individual category data into big csv file(YouTube_Scraped_PP_final.csv)"
   ],
   "metadata": {
    "collapsed": false,
    "pycharm": {
     "name": "#%% md\n"
    }
   }
  },
  {
   "cell_type": "code",
   "execution_count": 1,
   "outputs": [
    {
     "name": "stderr",
     "output_type": "stream",
     "text": [
      "[nltk_data] Downloading package punkt to\n",
      "[nltk_data]     /Users/sabareeswarans/nltk_data...\n",
      "[nltk_data]   Package punkt is already up-to-date!\n",
      "[nltk_data] Downloading package stopwords to\n",
      "[nltk_data]     /Users/sabareeswarans/nltk_data...\n",
      "[nltk_data]   Package stopwords is already up-to-date!\n",
      "[nltk_data] Downloading package wordnet to\n",
      "[nltk_data]     /Users/sabareeswarans/nltk_data...\n",
      "[nltk_data]   Package wordnet is already up-to-date!\n"
     ]
    }
   ],
   "source": [
    "import pandas as pd\n",
    "import re\n",
    "import string\n",
    "import ssl\n",
    "import nltk\n",
    "from nltk.tokenize import word_tokenize\n",
    "from nltk.corpus import stopwords\n",
    "from nltk.stem.wordnet import WordNetLemmatizer\n",
    "\n",
    "try:\n",
    "    _create_unverified_https_context = ssl._create_unverified_context\n",
    "except AttributeError:\n",
    "    pass\n",
    "else:\n",
    "    ssl._create_default_https_context = _create_unverified_https_context\n",
    "nltk.download('punkt')\n",
    "nltk.download('stopwords')\n",
    "nltk.download('wordnet')\n",
    "import warnings\n",
    "warnings.filterwarnings('ignore')"
   ],
   "metadata": {
    "collapsed": false,
    "pycharm": {
     "name": "#%%\n"
    }
   }
  },
  {
   "cell_type": "code",
   "execution_count": 26,
   "outputs": [],
   "source": [
    "# individual category preprocessing\n",
    "df_bd= pd.read_csv(\"/Users/sabareeswarans/Desktop/BD_Lab/BD_final/youtube_dataset_custom_scraped/bd_raw.csv\")\n",
    "df_dl= pd.read_csv(\"/Users/sabareeswarans/Desktop/BD_Lab/BD_final/youtube_dataset_custom_scraped/dl_raw.csv\")\n",
    "df_film= pd.read_csv(\"/Users/sabareeswarans/Desktop/BD_Lab/BD_final/youtube_dataset_custom_scraped/film_and_animi_raw.csv\")\n",
    "df_food= pd.read_csv(\"/Users/sabareeswarans/Desktop/BD_Lab/BD_final/youtube_dataset_custom_scraped/food_raw.csv\")\n",
    "df_leedcode= pd.read_csv(\"/Users/sabareeswarans/Desktop/BD_Lab/BD_final/youtube_dataset_custom_scraped/leedcode_raw.csv\")\n",
    "df_mkbhd= pd.read_csv(\"/Users/sabareeswarans/Desktop/BD_Lab/BD_final/youtube_dataset_custom_scraped/mkbd_raw.csv\")\n",
    "df_ml= pd.read_csv(\"/Users/sabareeswarans/Desktop/BD_Lab/BD_final/youtube_dataset_custom_scraped/ml_raw.csv\")"
   ],
   "metadata": {
    "collapsed": false,
    "pycharm": {
     "name": "#%%\n"
    }
   }
  },
  {
   "cell_type": "code",
   "execution_count": 27,
   "outputs": [],
   "source": [
    "def raw_preprocessing(dataframe,filename):\n",
    "    #Change to lowercase\n",
    "    dataframe['title'] = dataframe['title'].map(lambda x: x.lower())\n",
    "    dataframe['description'] = dataframe['description'].map(lambda x: x.lower())\n",
    "\n",
    "    # Remove numbers\n",
    "    dataframe['title'] = dataframe['title'].map(lambda x: re.sub(r'\\d+', '', x))\n",
    "    dataframe['description'] = dataframe['description'].map(lambda x: re.sub(r'\\d+', '', x))\n",
    "\n",
    "    # Remove Punctuation\n",
    "    dataframe['title']  = dataframe['title'].map(lambda x: x.translate(x.maketrans('', '', string.punctuation)))\n",
    "    dataframe['description']  = dataframe['description'].map(lambda x: x.translate(x.maketrans('', '', string.punctuation)))\n",
    "\n",
    "    # Remove white spaces\n",
    "    dataframe['title'] = dataframe['title'].map(lambda x: x.strip())\n",
    "    dataframe['description'] = dataframe['description'].map(lambda x: x.strip())\n",
    "\n",
    "    # Tokenize into words\n",
    "    dataframe['title'] = dataframe['title'].map(lambda x: word_tokenize(x))\n",
    "    dataframe['description'] = dataframe['description'].map(lambda x: word_tokenize(x))\n",
    "\n",
    "    # Remove non alphabetic tokens\n",
    "    dataframe['title'] = dataframe['title'].map(lambda x: [word for word in x if word.isalpha()])\n",
    "    dataframe['description'] = dataframe['description'].map(lambda x: [word for word in x if word.isalpha()])\n",
    "\n",
    "    # filter out stop words\n",
    "    stop_words = set(stopwords.words('english'))\n",
    "    dataframe['title'] = dataframe['title'].map(lambda x: [w for w in x if not w in stop_words])\n",
    "    dataframe['description'] = dataframe['description'].map(lambda x: [w for w in x if not w in stop_words])\n",
    "\n",
    "    # Word Lemmatization\n",
    "    lem = WordNetLemmatizer()\n",
    "    dataframe['title'] = dataframe['title'].map(lambda x: [lem.lemmatize(word,\"v\") for word in x])\n",
    "    dataframe['description'] = dataframe['description'].map(lambda x: [lem.lemmatize(word,\"v\") for word in x])\n",
    "\n",
    "    # Turn lists back to string\n",
    "    dataframe['title'] = dataframe['title'].map(lambda x: ' '.join(x))\n",
    "    dataframe['description'] = dataframe['description'].map(lambda x: ' '.join(x))\n",
    "    print(dataframe.shape)\n",
    "    dataframe.to_csv('/Users/sabareeswarans/Desktop/BD_Lab/BD_final/youtube_dataset_custom_scraped/preprocessed_individual/'+filename+'.csv', index=False)\n",
    "\n"
   ],
   "metadata": {
    "collapsed": false,
    "pycharm": {
     "name": "#%%\n"
    }
   }
  },
  {
   "cell_type": "code",
   "execution_count": 28,
   "outputs": [
    {
     "name": "stdout",
     "output_type": "stream",
     "text": [
      "No of Null data in Big data category:\n",
      " links           0\n",
      "title           8\n",
      "description    78\n",
      "category        0\n",
      "dtype: int64\n",
      "Removed all null Values in Big data category:\n",
      " links          0\n",
      "title          0\n",
      "description    0\n",
      "category       0\n",
      "dtype: int64\n",
      "(568, 4)\n",
      "Preprocessing done and save under youtube_dataset_custom_scraped/preprocessed_individual !\n"
     ]
    }
   ],
   "source": [
    "# for scraped Big data category\n",
    "print('No of Null data in Big data category:\\n',df_bd.isnull().sum())\n",
    "\n",
    "# Filling Null Values\n",
    "df_bd['description']=df_bd['description'].fillna(' ')\n",
    "# drop the rows where title value is NAN/ NULL\n",
    "df_bd = df_bd.dropna(subset=['title'])\n",
    "df_bd = df_bd.reset_index(drop=True)\n",
    "print('Removed all null Values in Big data category:\\n',df_bd.isnull().sum())\n",
    "\n",
    "## Preprocessing - calling the Preprocessor function\n",
    "raw_preprocessing(df_bd,'big_data_pp')\n",
    "print(\"Preprocessing done and save under youtube_dataset_custom_scraped/preprocessed_individual !\")"
   ],
   "metadata": {
    "collapsed": false,
    "pycharm": {
     "name": "#%%\n"
    }
   }
  },
  {
   "cell_type": "code",
   "execution_count": 29,
   "outputs": [
    {
     "name": "stdout",
     "output_type": "stream",
     "text": [
      "No of Null data in dl_raw category:\n",
      " links          0\n",
      "title          0\n",
      "description    0\n",
      "category       0\n",
      "dtype: int64\n",
      "Removed all null Values in deep learning category:\n",
      " links          0\n",
      "title          0\n",
      "description    0\n",
      "category       0\n",
      "dtype: int64\n",
      "(596, 10)\n",
      "Preprocessing of deep_learning done and save under youtube_dataset_custom_scraped/preprocessed_individual !\n"
     ]
    }
   ],
   "source": [
    "# for scraped dl_raw category\n",
    "print('No of Null data in dl_raw category:\\n',df_dl.isnull().sum())\n",
    "\n",
    "# Filling Null Values\n",
    "df_dl['description']=df_dl['description'].fillna(' ')\n",
    "# drop the rows where title value is NAN/ NULL\n",
    "df_dl = df_dl.dropna(subset=['title'])\n",
    "df_dl = df_dl.reset_index(drop=True)\n",
    "print('Removed all null Values in deep learning category:\\n',df_dl.isnull().sum())\n",
    "\n",
    "## Preprocessing - calling the Preprocessor function\n",
    "raw_preprocessing(df_dl,'deep_learning_pp')\n",
    "print(\"Preprocessing of deep_learning done and save under youtube_dataset_custom_scraped/preprocessed_individual !\")"
   ],
   "metadata": {
    "collapsed": false,
    "pycharm": {
     "name": "#%%\n"
    }
   }
  },
  {
   "cell_type": "code",
   "execution_count": 30,
   "outputs": [
    {
     "name": "stdout",
     "output_type": "stream",
     "text": [
      "No of Null data in film and animation category:\n",
      " links           0\n",
      "title          21\n",
      "description    31\n",
      "category        0\n",
      "dtype: int64\n",
      "Removed all null Values in deep learning category:\n",
      " links          0\n",
      "title          0\n",
      "description    0\n",
      "category       0\n",
      "dtype: int64\n",
      "(547, 4)\n",
      "Preprocessing of film and animation done and save under youtube_dataset_custom_scraped/preprocessed_individual !\n"
     ]
    }
   ],
   "source": [
    "# for scraped film and animation_raw category\n",
    "print('No of Null data in film and animation category:\\n',df_film.isnull().sum())\n",
    "\n",
    "# Filling Null Valuesf\n",
    "df_film['description']=df_film['description'].fillna(' ')\n",
    "# drop the rows where title value is NAN/ NULL\n",
    "df_film = df_film.dropna(subset=['title'])\n",
    "df_film = df_film.reset_index(drop=True)\n",
    "print('Removed all null Values in deep learning category:\\n',df_film.isnull().sum())\n",
    "\n",
    "## Preprocessing - calling the Preprocessor function\n",
    "raw_preprocessing(df_film,'film_pp')\n",
    "print(\"Preprocessing of film and animation done and save under youtube_dataset_custom_scraped/preprocessed_individual !\")"
   ],
   "metadata": {
    "collapsed": false,
    "pycharm": {
     "name": "#%%\n"
    }
   }
  },
  {
   "cell_type": "code",
   "execution_count": 31,
   "outputs": [
    {
     "name": "stdout",
     "output_type": "stream",
     "text": [
      "No of Null data in film and animation category:\n",
      " links            0\n",
      "title            7\n",
      "description     10\n",
      "category         0\n",
      "Unnamed: 4     517\n",
      "Unnamed: 5     518\n",
      "Unnamed: 6     518\n",
      "dtype: int64\n",
      "Removed all null Values in deep learning category:\n",
      " links            0\n",
      "title            0\n",
      "description      0\n",
      "category         0\n",
      "Unnamed: 4     510\n",
      "Unnamed: 5     511\n",
      "Unnamed: 6     511\n",
      "dtype: int64\n",
      "(512, 7)\n",
      "Preprocessing of food done and save under youtube_dataset_custom_scraped/preprocessed_individual !\n"
     ]
    }
   ],
   "source": [
    "# for scraped food   category\n",
    "print('No of Null data in film and animation category:\\n',df_food.isnull().sum())\n",
    "\n",
    "# Filling Null Valuesf\n",
    "df_food['description']=df_food['description'].fillna(' ')\n",
    "# drop the rows where title value is NAN/ NULL\n",
    "df_food = df_food.dropna(subset=['title'])\n",
    "df_food = df_food.reset_index(drop=True)\n",
    "print('Removed all null Values in deep learning category:\\n',df_food.isnull().sum())\n",
    "\n",
    "## Preprocessing - calling the Preprocessor function\n",
    "raw_preprocessing(df_food,'food_pp')\n",
    "print(\"Preprocessing of food done and save under youtube_dataset_custom_scraped/preprocessed_individual !\")"
   ],
   "metadata": {
    "collapsed": false,
    "pycharm": {
     "name": "#%%\n"
    }
   }
  },
  {
   "cell_type": "code",
   "execution_count": 32,
   "outputs": [
    {
     "name": "stdout",
     "output_type": "stream",
     "text": [
      "No of Null data in film and animation category:\n",
      " links           0\n",
      "title           5\n",
      "description    21\n",
      "category        0\n",
      "dtype: int64\n",
      "Removed all null Values in deep learning category:\n",
      " links          0\n",
      "title          0\n",
      "description    0\n",
      "category       0\n",
      "dtype: int64\n",
      "(556, 4)\n",
      "Preprocessing of food done and save under youtube_dataset_custom_scraped/preprocessed_individual !\n"
     ]
    }
   ],
   "source": [
    "# for scraped leedcode raw category\n",
    "print('No of Null data in film and animation category:\\n',df_leedcode.isnull().sum())\n",
    "# Filling Null Valuesf\n",
    "df_leedcode['description']=df_leedcode['description'].fillna(' ')\n",
    "# drop the rows where title value is NAN/ NULL\n",
    "df_leedcode = df_leedcode.dropna(subset=['title'])\n",
    "df_leedcode = df_leedcode.reset_index(drop=True)\n",
    "print('Removed all null Values in deep learning category:\\n',df_leedcode.isnull().sum())\n",
    "\n",
    "## Preprocessing - calling the Preprocessor function\n",
    "raw_preprocessing(df_leedcode,'leedcode_pp')\n",
    "print(\"Preprocessing of food done and save under youtube_dataset_custom_scraped/preprocessed_individual !\")"
   ],
   "metadata": {
    "collapsed": false,
    "pycharm": {
     "name": "#%%\n"
    }
   }
  },
  {
   "cell_type": "code",
   "execution_count": 33,
   "outputs": [
    {
     "name": "stdout",
     "output_type": "stream",
     "text": [
      "No of Null data in film and animation category:\n",
      " links           0\n",
      "title          38\n",
      "description    40\n",
      "category        0\n",
      "dtype: int64\n",
      "Removed all null Values in deep learning category:\n",
      " links          0\n",
      "title          0\n",
      "description    0\n",
      "category       0\n",
      "dtype: int64\n",
      "(576, 4)\n",
      "Preprocessing of food done and save under youtube_dataset_custom_scraped/preprocessed_individual !\n"
     ]
    }
   ],
   "source": [
    "# for scraped mkbd raw category\n",
    "print('No of Null data in film and animation category:\\n',df_mkbhd.isnull().sum())\n",
    "# Filling Null Valuesf\n",
    "df_mkbhd['description']=df_mkbhd['description'].fillna(' ')\n",
    "# drop the rows where title value is NAN/ NULL\n",
    "df_mkbhd = df_mkbhd.dropna(subset=['title'])\n",
    "df_mkbhd = df_mkbhd.reset_index(drop=True)\n",
    "print('Removed all null Values in deep learning category:\\n',df_mkbhd.isnull().sum())\n",
    "\n",
    "## Preprocessing - calling the Preprocessor function\n",
    "raw_preprocessing(df_mkbhd,'mkbhd_pp')\n",
    "print(\"Preprocessing of food done and save under youtube_dataset_custom_scraped/preprocessed_individual !\")"
   ],
   "metadata": {
    "collapsed": false,
    "pycharm": {
     "name": "#%%\n"
    }
   }
  },
  {
   "cell_type": "code",
   "execution_count": 34,
   "outputs": [
    {
     "name": "stdout",
     "output_type": "stream",
     "text": [
      "No of Null data in film and animation category:\n",
      " links           0\n",
      "title           9\n",
      "description    29\n",
      "category        0\n",
      "dtype: int64\n",
      "Removed all null Values in deep learning category:\n",
      " links          0\n",
      "title          0\n",
      "description    0\n",
      "category       0\n",
      "dtype: int64\n",
      "(692, 4)\n",
      "Preprocessing of food done and save under youtube_dataset_custom_scraped/preprocessed_individual !\n"
     ]
    }
   ],
   "source": [
    "# for scraped machine_learning raw category\n",
    "print('No of Null data in film and animation category:\\n',df_ml.isnull().sum())\n",
    "# Filling Null Valuesf\n",
    "df_ml['description']=df_ml['description'].fillna(' ')\n",
    "# drop the rows where title value is NAN/ NULL\n",
    "df_ml = df_ml.dropna(subset=['title'])\n",
    "df_ml = df_ml.reset_index(drop=True)\n",
    "print('Removed all null Values in deep learning category:\\n',df_ml.isnull().sum())\n",
    "## Preprocessing - calling the Preprocessor function\n",
    "raw_preprocessing(df_ml,'ml_pp')\n",
    "print(\"Preprocessing of food done and save under youtube_dataset_custom_scraped/preprocessed_individual !\")"
   ],
   "metadata": {
    "collapsed": false,
    "pycharm": {
     "name": "#%%\n"
    }
   }
  },
  {
   "cell_type": "markdown",
   "source": [
    "## Combining all the individual data category together."
   ],
   "metadata": {
    "collapsed": false,
    "pycharm": {
     "name": "#%% md\n"
    }
   }
  },
  {
   "cell_type": "code",
   "execution_count": 138,
   "outputs": [],
   "source": [
    "\n",
    "combine1 =[df_ml,df_dl,df_mkbhd,df_leedcode,df_food,df_bd,df_film]\n",
    "data_pp1 = pd.concat( combine1,ignore_index=True)\n",
    "data_pp1 = data_pp1.drop(data_pp1.columns[[4, 5, 6,7,8,9]], axis=1)"
   ],
   "metadata": {
    "collapsed": false,
    "pycharm": {
     "name": "#%%\n"
    }
   }
  },
  {
   "cell_type": "code",
   "execution_count": 139,
   "outputs": [
    {
     "data": {
      "text/plain": "            links                                              title  \\\n0     GwIo3gDZCVQ  Machine Learning Full Course - Learn Machine L...   \n1     7eh4d6sabA0    Python Machine Learning Tutorial (Data Science)   \n2     PmlRbfSavbI  Stealing Baseball Signs with a Phone (Machine ...   \n3      ircAruvnKk  But what is a neural network? | Chapter 1, Dee...   \n4     5q87K1WaoFI  Computer Scientist Explains Machine Learning i...   \n...           ...                                                ...   \n4139  8_o67Bm-2PU  Jungle Beat: Munki and Trunk | Fun Compilation...   \n4140  i8MQl7vCkMQ  Oscar Winner Animated Short Film 2022 | The Wi...   \n4141   N6dX6tzApG  Compilation | Jungle Beat: Munki and Trunk | K...   \n4142  _ukPcjh2Em4          The Flower Day Parade/The Big Bunny Blues   \n4143     Iy4ZhRo_           Movie Animation Park Studio ft. BoBoiBoy   \n\n                                            description            category  \n0     🔥 Machine Learning Engineer Masters Program (U...    machine learning  \n1     Python Machine Learning Tutorial  - Learn how ...    machine learning  \n2     I always sucked at baseball... until now... ok...    machine learning  \n3     What are the neurons, why are there layers, an...    machine learning  \n4     WIRED has challenged computer scientist and Hi...    machine learning  \n...                                                 ...                 ...  \n4139  The first in the Jungle Beat Book Collection i...  film and animation  \n4140                                                NaN  film and animation  \n4141  We're combining some of your favourite episode...  film and animation  \n4142  Wubbzy wants to contribute to the Flower Day P...  film and animation  \n4143  Subscribe now and watch more clips from BoBoiB...  film and animation  \n\n[4144 rows x 4 columns]",
      "text/html": "<div>\n<style scoped>\n    .dataframe tbody tr th:only-of-type {\n        vertical-align: middle;\n    }\n\n    .dataframe tbody tr th {\n        vertical-align: top;\n    }\n\n    .dataframe thead th {\n        text-align: right;\n    }\n</style>\n<table border=\"1\" class=\"dataframe\">\n  <thead>\n    <tr style=\"text-align: right;\">\n      <th></th>\n      <th>links</th>\n      <th>title</th>\n      <th>description</th>\n      <th>category</th>\n    </tr>\n  </thead>\n  <tbody>\n    <tr>\n      <th>0</th>\n      <td>GwIo3gDZCVQ</td>\n      <td>Machine Learning Full Course - Learn Machine L...</td>\n      <td>🔥 Machine Learning Engineer Masters Program (U...</td>\n      <td>machine learning</td>\n    </tr>\n    <tr>\n      <th>1</th>\n      <td>7eh4d6sabA0</td>\n      <td>Python Machine Learning Tutorial (Data Science)</td>\n      <td>Python Machine Learning Tutorial  - Learn how ...</td>\n      <td>machine learning</td>\n    </tr>\n    <tr>\n      <th>2</th>\n      <td>PmlRbfSavbI</td>\n      <td>Stealing Baseball Signs with a Phone (Machine ...</td>\n      <td>I always sucked at baseball... until now... ok...</td>\n      <td>machine learning</td>\n    </tr>\n    <tr>\n      <th>3</th>\n      <td>ircAruvnKk</td>\n      <td>But what is a neural network? | Chapter 1, Dee...</td>\n      <td>What are the neurons, why are there layers, an...</td>\n      <td>machine learning</td>\n    </tr>\n    <tr>\n      <th>4</th>\n      <td>5q87K1WaoFI</td>\n      <td>Computer Scientist Explains Machine Learning i...</td>\n      <td>WIRED has challenged computer scientist and Hi...</td>\n      <td>machine learning</td>\n    </tr>\n    <tr>\n      <th>...</th>\n      <td>...</td>\n      <td>...</td>\n      <td>...</td>\n      <td>...</td>\n    </tr>\n    <tr>\n      <th>4139</th>\n      <td>8_o67Bm-2PU</td>\n      <td>Jungle Beat: Munki and Trunk | Fun Compilation...</td>\n      <td>The first in the Jungle Beat Book Collection i...</td>\n      <td>film and animation</td>\n    </tr>\n    <tr>\n      <th>4140</th>\n      <td>i8MQl7vCkMQ</td>\n      <td>Oscar Winner Animated Short Film 2022 | The Wi...</td>\n      <td>NaN</td>\n      <td>film and animation</td>\n    </tr>\n    <tr>\n      <th>4141</th>\n      <td>N6dX6tzApG</td>\n      <td>Compilation | Jungle Beat: Munki and Trunk | K...</td>\n      <td>We're combining some of your favourite episode...</td>\n      <td>film and animation</td>\n    </tr>\n    <tr>\n      <th>4142</th>\n      <td>_ukPcjh2Em4</td>\n      <td>The Flower Day Parade/The Big Bunny Blues</td>\n      <td>Wubbzy wants to contribute to the Flower Day P...</td>\n      <td>film and animation</td>\n    </tr>\n    <tr>\n      <th>4143</th>\n      <td>Iy4ZhRo_</td>\n      <td>Movie Animation Park Studio ft. BoBoiBoy</td>\n      <td>Subscribe now and watch more clips from BoBoiB...</td>\n      <td>film and animation</td>\n    </tr>\n  </tbody>\n</table>\n<p>4144 rows × 4 columns</p>\n</div>"
     },
     "execution_count": 139,
     "metadata": {},
     "output_type": "execute_result"
    }
   ],
   "source": [
    "data_pp1"
   ],
   "metadata": {
    "collapsed": false,
    "pycharm": {
     "name": "#%%\n"
    }
   }
  },
  {
   "cell_type": "code",
   "execution_count": 90,
   "outputs": [
    {
     "data": {
      "text/plain": "links            0\ntitle           97\ndescription    246\ncategory         0\ndtype: int64"
     },
     "execution_count": 90,
     "metadata": {},
     "output_type": "execute_result"
    }
   ],
   "source": [
    "data_pp1.isnull().sum()"
   ],
   "metadata": {
    "collapsed": false,
    "pycharm": {
     "name": "#%%\n"
    }
   }
  },
  {
   "cell_type": "code",
   "execution_count": 140,
   "outputs": [],
   "source": [
    "# Filling Null Values\n",
    "data_pp1['description']=data_pp1['description'].fillna(' ')\n"
   ],
   "metadata": {
    "collapsed": false,
    "pycharm": {
     "name": "#%%\n"
    }
   }
  },
  {
   "cell_type": "code",
   "execution_count": 142,
   "outputs": [],
   "source": [
    "# drop the rows where title value is NAN/ NULL\n",
    "data_pp1 = data_pp1.dropna(subset=['title'])\n",
    "data_pp1 = data_pp1.reset_index(drop=True)\n"
   ],
   "metadata": {
    "collapsed": false,
    "pycharm": {
     "name": "#%%\n"
    }
   }
  },
  {
   "cell_type": "code",
   "execution_count": 143,
   "outputs": [
    {
     "data": {
      "text/plain": "links          0\ntitle          0\ndescription    0\ncategory       0\ndtype: int64"
     },
     "execution_count": 143,
     "metadata": {},
     "output_type": "execute_result"
    }
   ],
   "source": [
    "# Null values removed\n",
    "data_pp1.isnull().sum()"
   ],
   "metadata": {
    "collapsed": false,
    "pycharm": {
     "name": "#%%\n"
    }
   }
  },
  {
   "cell_type": "code",
   "execution_count": 144,
   "outputs": [
    {
     "data": {
      "text/plain": "            links                                              title  \\\n0     GwIo3gDZCVQ  Machine Learning Full Course - Learn Machine L...   \n1     7eh4d6sabA0    Python Machine Learning Tutorial (Data Science)   \n2     PmlRbfSavbI  Stealing Baseball Signs with a Phone (Machine ...   \n3      ircAruvnKk  But what is a neural network? | Chapter 1, Dee...   \n4     5q87K1WaoFI  Computer Scientist Explains Machine Learning i...   \n...           ...                                                ...   \n4042  8_o67Bm-2PU  Jungle Beat: Munki and Trunk | Fun Compilation...   \n4043  i8MQl7vCkMQ  Oscar Winner Animated Short Film 2022 | The Wi...   \n4044   N6dX6tzApG  Compilation | Jungle Beat: Munki and Trunk | K...   \n4045  _ukPcjh2Em4          The Flower Day Parade/The Big Bunny Blues   \n4046     Iy4ZhRo_           Movie Animation Park Studio ft. BoBoiBoy   \n\n                                            description            category  \n0     🔥 Machine Learning Engineer Masters Program (U...    machine learning  \n1     Python Machine Learning Tutorial  - Learn how ...    machine learning  \n2     I always sucked at baseball... until now... ok...    machine learning  \n3     What are the neurons, why are there layers, an...    machine learning  \n4     WIRED has challenged computer scientist and Hi...    machine learning  \n...                                                 ...                 ...  \n4042  The first in the Jungle Beat Book Collection i...  film and animation  \n4043                                                     film and animation  \n4044  We're combining some of your favourite episode...  film and animation  \n4045  Wubbzy wants to contribute to the Flower Day P...  film and animation  \n4046  Subscribe now and watch more clips from BoBoiB...  film and animation  \n\n[4047 rows x 4 columns]",
      "text/html": "<div>\n<style scoped>\n    .dataframe tbody tr th:only-of-type {\n        vertical-align: middle;\n    }\n\n    .dataframe tbody tr th {\n        vertical-align: top;\n    }\n\n    .dataframe thead th {\n        text-align: right;\n    }\n</style>\n<table border=\"1\" class=\"dataframe\">\n  <thead>\n    <tr style=\"text-align: right;\">\n      <th></th>\n      <th>links</th>\n      <th>title</th>\n      <th>description</th>\n      <th>category</th>\n    </tr>\n  </thead>\n  <tbody>\n    <tr>\n      <th>0</th>\n      <td>GwIo3gDZCVQ</td>\n      <td>Machine Learning Full Course - Learn Machine L...</td>\n      <td>🔥 Machine Learning Engineer Masters Program (U...</td>\n      <td>machine learning</td>\n    </tr>\n    <tr>\n      <th>1</th>\n      <td>7eh4d6sabA0</td>\n      <td>Python Machine Learning Tutorial (Data Science)</td>\n      <td>Python Machine Learning Tutorial  - Learn how ...</td>\n      <td>machine learning</td>\n    </tr>\n    <tr>\n      <th>2</th>\n      <td>PmlRbfSavbI</td>\n      <td>Stealing Baseball Signs with a Phone (Machine ...</td>\n      <td>I always sucked at baseball... until now... ok...</td>\n      <td>machine learning</td>\n    </tr>\n    <tr>\n      <th>3</th>\n      <td>ircAruvnKk</td>\n      <td>But what is a neural network? | Chapter 1, Dee...</td>\n      <td>What are the neurons, why are there layers, an...</td>\n      <td>machine learning</td>\n    </tr>\n    <tr>\n      <th>4</th>\n      <td>5q87K1WaoFI</td>\n      <td>Computer Scientist Explains Machine Learning i...</td>\n      <td>WIRED has challenged computer scientist and Hi...</td>\n      <td>machine learning</td>\n    </tr>\n    <tr>\n      <th>...</th>\n      <td>...</td>\n      <td>...</td>\n      <td>...</td>\n      <td>...</td>\n    </tr>\n    <tr>\n      <th>4042</th>\n      <td>8_o67Bm-2PU</td>\n      <td>Jungle Beat: Munki and Trunk | Fun Compilation...</td>\n      <td>The first in the Jungle Beat Book Collection i...</td>\n      <td>film and animation</td>\n    </tr>\n    <tr>\n      <th>4043</th>\n      <td>i8MQl7vCkMQ</td>\n      <td>Oscar Winner Animated Short Film 2022 | The Wi...</td>\n      <td></td>\n      <td>film and animation</td>\n    </tr>\n    <tr>\n      <th>4044</th>\n      <td>N6dX6tzApG</td>\n      <td>Compilation | Jungle Beat: Munki and Trunk | K...</td>\n      <td>We're combining some of your favourite episode...</td>\n      <td>film and animation</td>\n    </tr>\n    <tr>\n      <th>4045</th>\n      <td>_ukPcjh2Em4</td>\n      <td>The Flower Day Parade/The Big Bunny Blues</td>\n      <td>Wubbzy wants to contribute to the Flower Day P...</td>\n      <td>film and animation</td>\n    </tr>\n    <tr>\n      <th>4046</th>\n      <td>Iy4ZhRo_</td>\n      <td>Movie Animation Park Studio ft. BoBoiBoy</td>\n      <td>Subscribe now and watch more clips from BoBoiB...</td>\n      <td>film and animation</td>\n    </tr>\n  </tbody>\n</table>\n<p>4047 rows × 4 columns</p>\n</div>"
     },
     "execution_count": 144,
     "metadata": {},
     "output_type": "execute_result"
    }
   ],
   "source": [
    "data_pp1"
   ],
   "metadata": {
    "collapsed": false,
    "pycharm": {
     "name": "#%%\n"
    }
   }
  },
  {
   "cell_type": "code",
   "execution_count": 146,
   "outputs": [
    {
     "data": {
      "text/plain": "            links                                              title  \\\n0     GwIo3gDZCVQ  machine learn full course learn machine learn ...   \n1     7eh4d6sabA0         python machine learn tutorial data science   \n2     PmlRbfSavbI            steal baseball sign phone machine learn   \n3      ircAruvnKk                  neural network chapter deep learn   \n4     5q87K1WaoFI  computer scientist explain machine learn level...   \n...           ...                                                ...   \n4042  8_o67Bm-2PU  jungle beat munki trunk fun compilation kid an...   \n4043  i8MQl7vCkMQ   oscar winner animate short film windshield wiper   \n4044   N6dX6tzApG  compilation jungle beat munki trunk kid animation   \n4045  _ukPcjh2Em4                flower day paradethe big bunny blue   \n4046     Iy4ZhRo_            movie animation park studio ft boboiboy   \n\n                                            description            category  \n0     machine learn engineer master program use code...    machine learning  \n1     python machine learn tutorial learn predict ki...    machine learning  \n2     always suck baseball ok still probably suck go...    machine learning  \n3     neurons layer math underlie help fund future p...    machine learning  \n4     wire challenge computer scientist hide door co...    machine learning  \n...                                                 ...                 ...  \n4042  first jungle beat book collection buy today ht...  film and animation  \n4043                                                     film and animation  \n4044  combine favourite episodes bring even jungle b...  film and animation  \n4045  wubbzy want contribute flower day paradewhen e...  film and animation  \n4046  subscribe watch clip boboiboy galaxy exclusive...  film and animation  \n\n[4047 rows x 4 columns]",
      "text/html": "<div>\n<style scoped>\n    .dataframe tbody tr th:only-of-type {\n        vertical-align: middle;\n    }\n\n    .dataframe tbody tr th {\n        vertical-align: top;\n    }\n\n    .dataframe thead th {\n        text-align: right;\n    }\n</style>\n<table border=\"1\" class=\"dataframe\">\n  <thead>\n    <tr style=\"text-align: right;\">\n      <th></th>\n      <th>links</th>\n      <th>title</th>\n      <th>description</th>\n      <th>category</th>\n    </tr>\n  </thead>\n  <tbody>\n    <tr>\n      <th>0</th>\n      <td>GwIo3gDZCVQ</td>\n      <td>machine learn full course learn machine learn ...</td>\n      <td>machine learn engineer master program use code...</td>\n      <td>machine learning</td>\n    </tr>\n    <tr>\n      <th>1</th>\n      <td>7eh4d6sabA0</td>\n      <td>python machine learn tutorial data science</td>\n      <td>python machine learn tutorial learn predict ki...</td>\n      <td>machine learning</td>\n    </tr>\n    <tr>\n      <th>2</th>\n      <td>PmlRbfSavbI</td>\n      <td>steal baseball sign phone machine learn</td>\n      <td>always suck baseball ok still probably suck go...</td>\n      <td>machine learning</td>\n    </tr>\n    <tr>\n      <th>3</th>\n      <td>ircAruvnKk</td>\n      <td>neural network chapter deep learn</td>\n      <td>neurons layer math underlie help fund future p...</td>\n      <td>machine learning</td>\n    </tr>\n    <tr>\n      <th>4</th>\n      <td>5q87K1WaoFI</td>\n      <td>computer scientist explain machine learn level...</td>\n      <td>wire challenge computer scientist hide door co...</td>\n      <td>machine learning</td>\n    </tr>\n    <tr>\n      <th>...</th>\n      <td>...</td>\n      <td>...</td>\n      <td>...</td>\n      <td>...</td>\n    </tr>\n    <tr>\n      <th>4042</th>\n      <td>8_o67Bm-2PU</td>\n      <td>jungle beat munki trunk fun compilation kid an...</td>\n      <td>first jungle beat book collection buy today ht...</td>\n      <td>film and animation</td>\n    </tr>\n    <tr>\n      <th>4043</th>\n      <td>i8MQl7vCkMQ</td>\n      <td>oscar winner animate short film windshield wiper</td>\n      <td></td>\n      <td>film and animation</td>\n    </tr>\n    <tr>\n      <th>4044</th>\n      <td>N6dX6tzApG</td>\n      <td>compilation jungle beat munki trunk kid animation</td>\n      <td>combine favourite episodes bring even jungle b...</td>\n      <td>film and animation</td>\n    </tr>\n    <tr>\n      <th>4045</th>\n      <td>_ukPcjh2Em4</td>\n      <td>flower day paradethe big bunny blue</td>\n      <td>wubbzy want contribute flower day paradewhen e...</td>\n      <td>film and animation</td>\n    </tr>\n    <tr>\n      <th>4046</th>\n      <td>Iy4ZhRo_</td>\n      <td>movie animation park studio ft boboiboy</td>\n      <td>subscribe watch clip boboiboy galaxy exclusive...</td>\n      <td>film and animation</td>\n    </tr>\n  </tbody>\n</table>\n<p>4047 rows × 4 columns</p>\n</div>"
     },
     "execution_count": 146,
     "metadata": {},
     "output_type": "execute_result"
    }
   ],
   "source": [
    "data_pp1"
   ],
   "metadata": {
    "collapsed": false,
    "pycharm": {
     "name": "#%%\n"
    }
   }
  },
  {
   "cell_type": "code",
   "execution_count": 147,
   "outputs": [
    {
     "data": {
      "text/plain": "            links                                          title  \\\n2420  Wxdj970RM7M        iconic food every state state favorites   \n2421   LeYCwv0j9Q                 us vs japan mcdonalds food war   \n2422  64CSA7FMzuE                     us vs japan wendy food war   \n2423  9i4SKHbhbqk  best fast food recipes part one gordon ramsay   \n2424  T4NOt727wqI                     comfort foods around world   \n...           ...                                            ...   \n2927    Ga1DcA6BI                    tucker may enough food soon   \n2928   KJpAbGA9Cj                    spongebob squarepants movie   \n2929       YBDnVr                      food process plant attack   \n2930   nmH88P32Bj                                   school dance   \n2931  EsSGQ1GaYug                                       tailgate   \n\n                                            description category  \n2420  every state iconic food idaho potatoes world f...     food  \n2421  calorie count portion size want find differenc...     food  \n2422  calorie count portion size want find differenc...     food  \n2423  fast food recipes do right fry chicken tostada...     food  \n2424  time much world face lockdown coronavirus pand...     food  \n...                                                 ...      ...  \n2927  fox news host react president say food shortag...     food  \n2928  wacky underwater star oceanful adventure spong...     food  \n2929  unite state attack food process plant burn wat...     food  \n2930  high school freshman jason bobbe j thompson fi...     food  \n2931  cocksure roadraging man crosscountry trip fami...     food  \n\n[510 rows x 4 columns]",
      "text/html": "<div>\n<style scoped>\n    .dataframe tbody tr th:only-of-type {\n        vertical-align: middle;\n    }\n\n    .dataframe tbody tr th {\n        vertical-align: top;\n    }\n\n    .dataframe thead th {\n        text-align: right;\n    }\n</style>\n<table border=\"1\" class=\"dataframe\">\n  <thead>\n    <tr style=\"text-align: right;\">\n      <th></th>\n      <th>links</th>\n      <th>title</th>\n      <th>description</th>\n      <th>category</th>\n    </tr>\n  </thead>\n  <tbody>\n    <tr>\n      <th>2420</th>\n      <td>Wxdj970RM7M</td>\n      <td>iconic food every state state favorites</td>\n      <td>every state iconic food idaho potatoes world f...</td>\n      <td>food</td>\n    </tr>\n    <tr>\n      <th>2421</th>\n      <td>LeYCwv0j9Q</td>\n      <td>us vs japan mcdonalds food war</td>\n      <td>calorie count portion size want find differenc...</td>\n      <td>food</td>\n    </tr>\n    <tr>\n      <th>2422</th>\n      <td>64CSA7FMzuE</td>\n      <td>us vs japan wendy food war</td>\n      <td>calorie count portion size want find differenc...</td>\n      <td>food</td>\n    </tr>\n    <tr>\n      <th>2423</th>\n      <td>9i4SKHbhbqk</td>\n      <td>best fast food recipes part one gordon ramsay</td>\n      <td>fast food recipes do right fry chicken tostada...</td>\n      <td>food</td>\n    </tr>\n    <tr>\n      <th>2424</th>\n      <td>T4NOt727wqI</td>\n      <td>comfort foods around world</td>\n      <td>time much world face lockdown coronavirus pand...</td>\n      <td>food</td>\n    </tr>\n    <tr>\n      <th>...</th>\n      <td>...</td>\n      <td>...</td>\n      <td>...</td>\n      <td>...</td>\n    </tr>\n    <tr>\n      <th>2927</th>\n      <td>Ga1DcA6BI</td>\n      <td>tucker may enough food soon</td>\n      <td>fox news host react president say food shortag...</td>\n      <td>food</td>\n    </tr>\n    <tr>\n      <th>2928</th>\n      <td>KJpAbGA9Cj</td>\n      <td>spongebob squarepants movie</td>\n      <td>wacky underwater star oceanful adventure spong...</td>\n      <td>food</td>\n    </tr>\n    <tr>\n      <th>2929</th>\n      <td>YBDnVr</td>\n      <td>food process plant attack</td>\n      <td>unite state attack food process plant burn wat...</td>\n      <td>food</td>\n    </tr>\n    <tr>\n      <th>2930</th>\n      <td>nmH88P32Bj</td>\n      <td>school dance</td>\n      <td>high school freshman jason bobbe j thompson fi...</td>\n      <td>food</td>\n    </tr>\n    <tr>\n      <th>2931</th>\n      <td>EsSGQ1GaYug</td>\n      <td>tailgate</td>\n      <td>cocksure roadraging man crosscountry trip fami...</td>\n      <td>food</td>\n    </tr>\n  </tbody>\n</table>\n<p>510 rows × 4 columns</p>\n</div>"
     },
     "execution_count": 147,
     "metadata": {},
     "output_type": "execute_result"
    }
   ],
   "source": [
    "# combining food and food2\n",
    "\n",
    "df_f1 = data_pp1[data_pp1['category']=='food']\n",
    "df_f1"
   ],
   "metadata": {
    "collapsed": false,
    "pycharm": {
     "name": "#%%\n"
    }
   }
  },
  {
   "cell_type": "code",
   "execution_count": 148,
   "outputs": [],
   "source": [
    "#df_food2['category'] = df_food2['category'].map({'food2': 'food'})"
   ],
   "metadata": {
    "collapsed": false,
    "pycharm": {
     "name": "#%%\n"
    }
   }
  },
  {
   "cell_type": "code",
   "execution_count": 151,
   "outputs": [
    {
     "data": {
      "text/plain": "             links                                              title  \\\n0      GwIo3gDZCVQ  machine learn full course learn machine learn ...   \n1      7eh4d6sabA0         python machine learn tutorial data science   \n2      PmlRbfSavbI            steal baseball sign phone machine learn   \n3       ircAruvnKk                  neural network chapter deep learn   \n4      5q87K1WaoFI  computer scientist explain machine learn level...   \n...            ...                                                ...   \n12417    UNpyF58BY                 fourier transform visual introduct   \n12418  NBSv_0yHnB0                       nyc center space scienc educ   \n12419  YJjL82-KORA  hubbl telescop show spiral black hole power je...   \n12420  NSAgLvKOPLQ                                 model atom timelin   \n12421  JzZ4u5XxvFU  probabl find electron beyond bohr radiu hydrog...   \n\n                                             description          category  \\\n0      machine learn engineer master program use code...  machine learning   \n1      python machine learn tutorial learn predict ki...  machine learning   \n2      always suck baseball ok still probably suck go...  machine learning   \n3      neurons layer math underlie help fund future p...  machine learning   \n4      wire challenge computer scientist hide door co...  machine learning   \n...                                                  ...               ...   \n12417  anim introduct fourier transform home page htt...           science   \n12418  nyc center space scienc educ experienti space ...           science   \n12419  visit websit http www junglejoel com hubbl spa...           science   \n12420  see chemistri video check http socrat org chem...           science   \n12421     solut question chapter quantum physic hc verma           science   \n\n       Unnamed: 0  \n0             NaN  \n1             NaN  \n2             NaN  \n3             NaN  \n4             NaN  \n...           ...  \n12417      8357.0  \n12418      8358.0  \n12419      8359.0  \n12420      8368.0  \n12421      8369.0  \n\n[12422 rows x 5 columns]",
      "text/html": "<div>\n<style scoped>\n    .dataframe tbody tr th:only-of-type {\n        vertical-align: middle;\n    }\n\n    .dataframe tbody tr th {\n        vertical-align: top;\n    }\n\n    .dataframe thead th {\n        text-align: right;\n    }\n</style>\n<table border=\"1\" class=\"dataframe\">\n  <thead>\n    <tr style=\"text-align: right;\">\n      <th></th>\n      <th>links</th>\n      <th>title</th>\n      <th>description</th>\n      <th>category</th>\n      <th>Unnamed: 0</th>\n    </tr>\n  </thead>\n  <tbody>\n    <tr>\n      <th>0</th>\n      <td>GwIo3gDZCVQ</td>\n      <td>machine learn full course learn machine learn ...</td>\n      <td>machine learn engineer master program use code...</td>\n      <td>machine learning</td>\n      <td>NaN</td>\n    </tr>\n    <tr>\n      <th>1</th>\n      <td>7eh4d6sabA0</td>\n      <td>python machine learn tutorial data science</td>\n      <td>python machine learn tutorial learn predict ki...</td>\n      <td>machine learning</td>\n      <td>NaN</td>\n    </tr>\n    <tr>\n      <th>2</th>\n      <td>PmlRbfSavbI</td>\n      <td>steal baseball sign phone machine learn</td>\n      <td>always suck baseball ok still probably suck go...</td>\n      <td>machine learning</td>\n      <td>NaN</td>\n    </tr>\n    <tr>\n      <th>3</th>\n      <td>ircAruvnKk</td>\n      <td>neural network chapter deep learn</td>\n      <td>neurons layer math underlie help fund future p...</td>\n      <td>machine learning</td>\n      <td>NaN</td>\n    </tr>\n    <tr>\n      <th>4</th>\n      <td>5q87K1WaoFI</td>\n      <td>computer scientist explain machine learn level...</td>\n      <td>wire challenge computer scientist hide door co...</td>\n      <td>machine learning</td>\n      <td>NaN</td>\n    </tr>\n    <tr>\n      <th>...</th>\n      <td>...</td>\n      <td>...</td>\n      <td>...</td>\n      <td>...</td>\n      <td>...</td>\n    </tr>\n    <tr>\n      <th>12417</th>\n      <td>UNpyF58BY</td>\n      <td>fourier transform visual introduct</td>\n      <td>anim introduct fourier transform home page htt...</td>\n      <td>science</td>\n      <td>8357.0</td>\n    </tr>\n    <tr>\n      <th>12418</th>\n      <td>NBSv_0yHnB0</td>\n      <td>nyc center space scienc educ</td>\n      <td>nyc center space scienc educ experienti space ...</td>\n      <td>science</td>\n      <td>8358.0</td>\n    </tr>\n    <tr>\n      <th>12419</th>\n      <td>YJjL82-KORA</td>\n      <td>hubbl telescop show spiral black hole power je...</td>\n      <td>visit websit http www junglejoel com hubbl spa...</td>\n      <td>science</td>\n      <td>8359.0</td>\n    </tr>\n    <tr>\n      <th>12420</th>\n      <td>NSAgLvKOPLQ</td>\n      <td>model atom timelin</td>\n      <td>see chemistri video check http socrat org chem...</td>\n      <td>science</td>\n      <td>8368.0</td>\n    </tr>\n    <tr>\n      <th>12421</th>\n      <td>JzZ4u5XxvFU</td>\n      <td>probabl find electron beyond bohr radiu hydrog...</td>\n      <td>solut question chapter quantum physic hc verma</td>\n      <td>science</td>\n      <td>8369.0</td>\n    </tr>\n  </tbody>\n</table>\n<p>12422 rows × 5 columns</p>\n</div>"
     },
     "execution_count": 151,
     "metadata": {},
     "output_type": "execute_result"
    }
   ],
   "source": [
    "data_pp1"
   ],
   "metadata": {
    "collapsed": false,
    "pycharm": {
     "name": "#%%\n"
    }
   }
  },
  {
   "cell_type": "code",
   "execution_count": 152,
   "outputs": [],
   "source": [
    "# Shuffle the data Frame\n",
    "data_final = data_pp1.sample(frac=1).reset_index(drop=True)"
   ],
   "metadata": {
    "collapsed": false,
    "pycharm": {
     "name": "#%%\n"
    }
   }
  },
  {
   "cell_type": "code",
   "execution_count": 153,
   "outputs": [
    {
     "data": {
      "text/plain": "             links                                              title  \\\n0       Co0iR1FjGY    hours vegetarian food challenge korea vlog cook   \n1        TelY8wdrA  volvo engin factori made manufactur powertrain...   \n2       fL6uJYFrp4                                deep learn tutorial   \n3      lUmL6sGvaig  japan travel cost japan rail pass japan travel...   \n4       lp0ur_qXoM                       irish peopl tast indian food   \n...            ...                                                ...   \n12417  CsEWdTR7Oi8       hampi gloriou histori time ii day ii k video   \n12418  iBFDGKfY7xU  korean food never seen uniqu korean eleven tou...   \n12419  kReFGDDGn5Y              lord buddha animation film power life   \n12420  6HLmhxLmRp4  evolut spider man costum yellow spandex nowthi...   \n12421   WCF2pxvCx4        introduct brief histori time stephen hawkin   \n\n                                             description            category  \\\n0      hello today go h vegetarian food challenge hop...                food   \n1      volvo engin factori made manufactur manufactur...   Car Manufacturing   \n2                        deep learn tutorial su lab ucsd       deep learning   \n3      japan travel cost japan rail pass japan travel...    vlogs and travel   \n4      thing dessert never confus make sure subscrib ...                food   \n...                                                  ...                 ...   \n12417  video follow messag maharaja krishnadevraya pl...           biography   \n12418  korean street food challeng http www youtub co...                food   \n12419  lord buddha power life buddha reveal power lov...  film and animation   \n12420  subscrib nowthi nerd http go nowth nerd subscr...           biography   \n12421  brief histori time stephen hawkin phenomen boo...           biography   \n\n       Unnamed: 0  \n0             NaN  \n1          4133.0  \n2             NaN  \n3             NaN  \n4             NaN  \n...           ...  \n12417         NaN  \n12418         NaN  \n12419         NaN  \n12420         NaN  \n12421         NaN  \n\n[12422 rows x 5 columns]",
      "text/html": "<div>\n<style scoped>\n    .dataframe tbody tr th:only-of-type {\n        vertical-align: middle;\n    }\n\n    .dataframe tbody tr th {\n        vertical-align: top;\n    }\n\n    .dataframe thead th {\n        text-align: right;\n    }\n</style>\n<table border=\"1\" class=\"dataframe\">\n  <thead>\n    <tr style=\"text-align: right;\">\n      <th></th>\n      <th>links</th>\n      <th>title</th>\n      <th>description</th>\n      <th>category</th>\n      <th>Unnamed: 0</th>\n    </tr>\n  </thead>\n  <tbody>\n    <tr>\n      <th>0</th>\n      <td>Co0iR1FjGY</td>\n      <td>hours vegetarian food challenge korea vlog cook</td>\n      <td>hello today go h vegetarian food challenge hop...</td>\n      <td>food</td>\n      <td>NaN</td>\n    </tr>\n    <tr>\n      <th>1</th>\n      <td>TelY8wdrA</td>\n      <td>volvo engin factori made manufactur powertrain...</td>\n      <td>volvo engin factori made manufactur manufactur...</td>\n      <td>Car Manufacturing</td>\n      <td>4133.0</td>\n    </tr>\n    <tr>\n      <th>2</th>\n      <td>fL6uJYFrp4</td>\n      <td>deep learn tutorial</td>\n      <td>deep learn tutorial su lab ucsd</td>\n      <td>deep learning</td>\n      <td>NaN</td>\n    </tr>\n    <tr>\n      <th>3</th>\n      <td>lUmL6sGvaig</td>\n      <td>japan travel cost japan rail pass japan travel...</td>\n      <td>japan travel cost japan rail pass japan travel...</td>\n      <td>vlogs and travel</td>\n      <td>NaN</td>\n    </tr>\n    <tr>\n      <th>4</th>\n      <td>lp0ur_qXoM</td>\n      <td>irish peopl tast indian food</td>\n      <td>thing dessert never confus make sure subscrib ...</td>\n      <td>food</td>\n      <td>NaN</td>\n    </tr>\n    <tr>\n      <th>...</th>\n      <td>...</td>\n      <td>...</td>\n      <td>...</td>\n      <td>...</td>\n      <td>...</td>\n    </tr>\n    <tr>\n      <th>12417</th>\n      <td>CsEWdTR7Oi8</td>\n      <td>hampi gloriou histori time ii day ii k video</td>\n      <td>video follow messag maharaja krishnadevraya pl...</td>\n      <td>biography</td>\n      <td>NaN</td>\n    </tr>\n    <tr>\n      <th>12418</th>\n      <td>iBFDGKfY7xU</td>\n      <td>korean food never seen uniqu korean eleven tou...</td>\n      <td>korean street food challeng http www youtub co...</td>\n      <td>food</td>\n      <td>NaN</td>\n    </tr>\n    <tr>\n      <th>12419</th>\n      <td>kReFGDDGn5Y</td>\n      <td>lord buddha animation film power life</td>\n      <td>lord buddha power life buddha reveal power lov...</td>\n      <td>film and animation</td>\n      <td>NaN</td>\n    </tr>\n    <tr>\n      <th>12420</th>\n      <td>6HLmhxLmRp4</td>\n      <td>evolut spider man costum yellow spandex nowthi...</td>\n      <td>subscrib nowthi nerd http go nowth nerd subscr...</td>\n      <td>biography</td>\n      <td>NaN</td>\n    </tr>\n    <tr>\n      <th>12421</th>\n      <td>WCF2pxvCx4</td>\n      <td>introduct brief histori time stephen hawkin</td>\n      <td>brief histori time stephen hawkin phenomen boo...</td>\n      <td>biography</td>\n      <td>NaN</td>\n    </tr>\n  </tbody>\n</table>\n<p>12422 rows × 5 columns</p>\n</div>"
     },
     "execution_count": 153,
     "metadata": {},
     "output_type": "execute_result"
    }
   ],
   "source": [
    "data_final"
   ],
   "metadata": {
    "collapsed": false,
    "pycharm": {
     "name": "#%%\n"
    }
   }
  },
  {
   "cell_type": "code",
   "execution_count": 154,
   "outputs": [],
   "source": [
    "value_count=data_final['category'].value_counts()"
   ],
   "metadata": {
    "collapsed": false,
    "pycharm": {
     "name": "#%%\n"
    }
   }
  },
  {
   "cell_type": "code",
   "execution_count": 155,
   "outputs": [],
   "source": [
    "to_remove = value_count[value_count <= 2].index\n",
    "data_final = data_final[~data_final.category.isin(to_remove)]\n"
   ],
   "metadata": {
    "collapsed": false,
    "pycharm": {
     "name": "#%%\n"
    }
   }
  },
  {
   "cell_type": "code",
   "execution_count": 156,
   "outputs": [
    {
     "data": {
      "text/plain": "food                  1943\ndance                 1445\nbiography             1415\nscience               1400\nvlogs and travel      1352\nCar Manufacturing     1330\nmachine learning       692\ndeep learning          594\nmkbhd                  576\nbig data               568\nLeedcode               556\nfilm and animation     547\nName: category, dtype: int64"
     },
     "execution_count": 156,
     "metadata": {},
     "output_type": "execute_result"
    }
   ],
   "source": [
    "data_final['category'].value_counts()"
   ],
   "metadata": {
    "collapsed": false,
    "pycharm": {
     "name": "#%%\n"
    }
   }
  },
  {
   "cell_type": "code",
   "execution_count": 157,
   "outputs": [
    {
     "data": {
      "text/plain": "links             0\ntitle             1\ndescription      20\ncategory          0\nUnnamed: 0     9688\ndtype: int64"
     },
     "execution_count": 157,
     "metadata": {},
     "output_type": "execute_result"
    }
   ],
   "source": [
    "data_final.isnull().sum()"
   ],
   "metadata": {
    "collapsed": false,
    "pycharm": {
     "name": "#%%\n"
    }
   }
  },
  {
   "cell_type": "code",
   "execution_count": 158,
   "outputs": [],
   "source": [
    "# Drop Unnecessary column\n",
    "data_final=data_final.drop('Unnamed: 0',axis=1)"
   ],
   "metadata": {
    "collapsed": false,
    "pycharm": {
     "name": "#%%\n"
    }
   }
  },
  {
   "cell_type": "code",
   "execution_count": 159,
   "outputs": [],
   "source": [
    "# Filling Null Values\n",
    "data_final['description']=data_final['description'].fillna(' ')"
   ],
   "metadata": {
    "collapsed": false,
    "pycharm": {
     "name": "#%%\n"
    }
   }
  },
  {
   "cell_type": "code",
   "execution_count": 160,
   "outputs": [
    {
     "data": {
      "text/plain": "(12418, 4)"
     },
     "execution_count": 160,
     "metadata": {},
     "output_type": "execute_result"
    }
   ],
   "source": [
    "data_final.shape"
   ],
   "metadata": {
    "collapsed": false,
    "pycharm": {
     "name": "#%%\n"
    }
   }
  },
  {
   "cell_type": "code",
   "execution_count": 161,
   "outputs": [],
   "source": [
    "# drop the rows where title value is NAN/ NULL\n",
    "data_final = data_final.dropna(subset=['title'])\n",
    "data_final = data_final.reset_index(drop=True)"
   ],
   "metadata": {
    "collapsed": false,
    "pycharm": {
     "name": "#%%\n"
    }
   }
  },
  {
   "cell_type": "code",
   "execution_count": 162,
   "outputs": [
    {
     "data": {
      "text/plain": "(12417, 4)"
     },
     "execution_count": 162,
     "metadata": {},
     "output_type": "execute_result"
    }
   ],
   "source": [
    "data_final.shape"
   ],
   "metadata": {
    "collapsed": false,
    "pycharm": {
     "name": "#%%\n"
    }
   }
  },
  {
   "cell_type": "code",
   "execution_count": 163,
   "outputs": [
    {
     "data": {
      "text/plain": "links          0\ntitle          0\ndescription    0\ncategory       0\ndtype: int64"
     },
     "execution_count": 163,
     "metadata": {},
     "output_type": "execute_result"
    }
   ],
   "source": [
    "data_final.isnull().sum()"
   ],
   "metadata": {
    "collapsed": false,
    "pycharm": {
     "name": "#%%\n"
    }
   }
  },
  {
   "cell_type": "code",
   "execution_count": 164,
   "outputs": [],
   "source": [
    "data_final.to_csv('/Users/sabareeswarans/Desktop/BD_Lab/BD_final/Custom_dataset/YouTube_Scraped_PP_final.csv')"
   ],
   "metadata": {
    "collapsed": false,
    "pycharm": {
     "name": "#%%\n"
    }
   }
  }
 ],
 "metadata": {
  "kernelspec": {
   "display_name": "Python 3",
   "language": "python",
   "name": "python3"
  },
  "language_info": {
   "codemirror_mode": {
    "name": "ipython",
    "version": 2
   },
   "file_extension": ".py",
   "mimetype": "text/x-python",
   "name": "python",
   "nbconvert_exporter": "python",
   "pygments_lexer": "ipython2",
   "version": "2.7.6"
  }
 },
 "nbformat": 4,
 "nbformat_minor": 0
}