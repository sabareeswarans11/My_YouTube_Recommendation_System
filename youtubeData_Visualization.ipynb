{
 "cells": [
  {
   "cell_type": "code",
   "execution_count": 5,
   "metadata": {
    "collapsed": true
   },
   "outputs": [],
   "source": [
    "import pandas as pd\n",
    "from matplotlib import pyplot as plt\n",
    "import seaborn as sns\n",
    "%matplotlib inline"
   ]
  },
  {
   "cell_type": "code",
   "execution_count": 6,
   "outputs": [],
   "source": [
    "# import the preprocessed data\n",
    "data= pd.read_csv('/Users/sabareeswarans/Desktop/BD_Lab/BD_final/PreProcessed_data/YouTube_Scraped_PP_final.csv')"
   ],
   "metadata": {
    "collapsed": false,
    "pycharm": {
     "name": "#%%\n"
    }
   }
  },
  {
   "cell_type": "code",
   "execution_count": 7,
   "outputs": [
    {
     "data": {
      "text/plain": "       Unnamed: 0        links  \\\n0               0   Co0iR1FjGY   \n1               1    TelY8wdrA   \n2               2   fL6uJYFrp4   \n3               3  lUmL6sGvaig   \n4               4   lp0ur_qXoM   \n...           ...          ...   \n12412       12412  CsEWdTR7Oi8   \n12413       12413  iBFDGKfY7xU   \n12414       12414  kReFGDDGn5Y   \n12415       12415  6HLmhxLmRp4   \n12416       12416   WCF2pxvCx4   \n\n                                                   title  \\\n0        hours vegetarian food challenge korea vlog cook   \n1      volvo engin factori made manufactur powertrain...   \n2                                    deep learn tutorial   \n3      japan travel cost japan rail pass japan travel...   \n4                           irish peopl tast indian food   \n...                                                  ...   \n12412       hampi gloriou histori time ii day ii k video   \n12413  korean food never seen uniqu korean eleven tou...   \n12414              lord buddha animation film power life   \n12415  evolut spider man costum yellow spandex nowthi...   \n12416        introduct brief histori time stephen hawkin   \n\n                                             description            category  \n0      hello today go h vegetarian food challenge hop...                food  \n1      volvo engin factori made manufactur manufactur...   Car Manufacturing  \n2                        deep learn tutorial su lab ucsd       deep learning  \n3      japan travel cost japan rail pass japan travel...    vlogs and travel  \n4      thing dessert never confus make sure subscrib ...                food  \n...                                                  ...                 ...  \n12412  video follow messag maharaja krishnadevraya pl...           biography  \n12413  korean street food challeng http www youtub co...                food  \n12414  lord buddha power life buddha reveal power lov...  film and animation  \n12415  subscrib nowthi nerd http go nowth nerd subscr...           biography  \n12416  brief histori time stephen hawkin phenomen boo...           biography  \n\n[12417 rows x 5 columns]",
      "text/html": "<div>\n<style scoped>\n    .dataframe tbody tr th:only-of-type {\n        vertical-align: middle;\n    }\n\n    .dataframe tbody tr th {\n        vertical-align: top;\n    }\n\n    .dataframe thead th {\n        text-align: right;\n    }\n</style>\n<table border=\"1\" class=\"dataframe\">\n  <thead>\n    <tr style=\"text-align: right;\">\n      <th></th>\n      <th>Unnamed: 0</th>\n      <th>links</th>\n      <th>title</th>\n      <th>description</th>\n      <th>category</th>\n    </tr>\n  </thead>\n  <tbody>\n    <tr>\n      <th>0</th>\n      <td>0</td>\n      <td>Co0iR1FjGY</td>\n      <td>hours vegetarian food challenge korea vlog cook</td>\n      <td>hello today go h vegetarian food challenge hop...</td>\n      <td>food</td>\n    </tr>\n    <tr>\n      <th>1</th>\n      <td>1</td>\n      <td>TelY8wdrA</td>\n      <td>volvo engin factori made manufactur powertrain...</td>\n      <td>volvo engin factori made manufactur manufactur...</td>\n      <td>Car Manufacturing</td>\n    </tr>\n    <tr>\n      <th>2</th>\n      <td>2</td>\n      <td>fL6uJYFrp4</td>\n      <td>deep learn tutorial</td>\n      <td>deep learn tutorial su lab ucsd</td>\n      <td>deep learning</td>\n    </tr>\n    <tr>\n      <th>3</th>\n      <td>3</td>\n      <td>lUmL6sGvaig</td>\n      <td>japan travel cost japan rail pass japan travel...</td>\n      <td>japan travel cost japan rail pass japan travel...</td>\n      <td>vlogs and travel</td>\n    </tr>\n    <tr>\n      <th>4</th>\n      <td>4</td>\n      <td>lp0ur_qXoM</td>\n      <td>irish peopl tast indian food</td>\n      <td>thing dessert never confus make sure subscrib ...</td>\n      <td>food</td>\n    </tr>\n    <tr>\n      <th>...</th>\n      <td>...</td>\n      <td>...</td>\n      <td>...</td>\n      <td>...</td>\n      <td>...</td>\n    </tr>\n    <tr>\n      <th>12412</th>\n      <td>12412</td>\n      <td>CsEWdTR7Oi8</td>\n      <td>hampi gloriou histori time ii day ii k video</td>\n      <td>video follow messag maharaja krishnadevraya pl...</td>\n      <td>biography</td>\n    </tr>\n    <tr>\n      <th>12413</th>\n      <td>12413</td>\n      <td>iBFDGKfY7xU</td>\n      <td>korean food never seen uniqu korean eleven tou...</td>\n      <td>korean street food challeng http www youtub co...</td>\n      <td>food</td>\n    </tr>\n    <tr>\n      <th>12414</th>\n      <td>12414</td>\n      <td>kReFGDDGn5Y</td>\n      <td>lord buddha animation film power life</td>\n      <td>lord buddha power life buddha reveal power lov...</td>\n      <td>film and animation</td>\n    </tr>\n    <tr>\n      <th>12415</th>\n      <td>12415</td>\n      <td>6HLmhxLmRp4</td>\n      <td>evolut spider man costum yellow spandex nowthi...</td>\n      <td>subscrib nowthi nerd http go nowth nerd subscr...</td>\n      <td>biography</td>\n    </tr>\n    <tr>\n      <th>12416</th>\n      <td>12416</td>\n      <td>WCF2pxvCx4</td>\n      <td>introduct brief histori time stephen hawkin</td>\n      <td>brief histori time stephen hawkin phenomen boo...</td>\n      <td>biography</td>\n    </tr>\n  </tbody>\n</table>\n<p>12417 rows × 5 columns</p>\n</div>"
     },
     "execution_count": 7,
     "metadata": {},
     "output_type": "execute_result"
    }
   ],
   "source": [
    "data"
   ],
   "metadata": {
    "collapsed": false,
    "pycharm": {
     "name": "#%%\n"
    }
   }
  },
  {
   "cell_type": "code",
   "execution_count": 8,
   "outputs": [],
   "source": [
    "# Drop Unnecessary column\n",
    "data=data.drop('Unnamed: 0',axis=1)"
   ],
   "metadata": {
    "collapsed": false,
    "pycharm": {
     "name": "#%%\n"
    }
   }
  },
  {
   "cell_type": "code",
   "execution_count": 9,
   "outputs": [
    {
     "data": {
      "text/plain": "links            0\ntitle            1\ndescription    153\ncategory         0\ndtype: int64"
     },
     "execution_count": 9,
     "metadata": {},
     "output_type": "execute_result"
    }
   ],
   "source": [
    "data.isnull().sum()"
   ],
   "metadata": {
    "collapsed": false,
    "pycharm": {
     "name": "#%%\n"
    }
   }
  },
  {
   "cell_type": "markdown",
   "source": [],
   "metadata": {
    "collapsed": false
   }
  },
  {
   "cell_type": "code",
   "execution_count": 10,
   "outputs": [],
   "source": [
    "# Filling Null Values\n",
    "data['description']=data['description'].fillna(' ')"
   ],
   "metadata": {
    "collapsed": false,
    "pycharm": {
     "name": "#%%\n"
    }
   }
  },
  {
   "cell_type": "code",
   "execution_count": 11,
   "outputs": [
    {
     "data": {
      "text/plain": "(12417, 4)"
     },
     "execution_count": 11,
     "metadata": {},
     "output_type": "execute_result"
    }
   ],
   "source": [
    "data.shape"
   ],
   "metadata": {
    "collapsed": false,
    "pycharm": {
     "name": "#%%\n"
    }
   }
  },
  {
   "cell_type": "code",
   "execution_count": 12,
   "outputs": [],
   "source": [
    "# drop the rows where title value is NAN/ NULL\n",
    "data = data.dropna(subset=['title'])\n",
    "data = data.reset_index(drop=True)"
   ],
   "metadata": {
    "collapsed": false,
    "pycharm": {
     "name": "#%%\n"
    }
   }
  },
  {
   "cell_type": "code",
   "execution_count": 13,
   "outputs": [
    {
     "data": {
      "text/plain": "links          0\ntitle          0\ndescription    0\ncategory       0\ndtype: int64"
     },
     "execution_count": 13,
     "metadata": {},
     "output_type": "execute_result"
    }
   ],
   "source": [
    "data.isnull().sum()"
   ],
   "metadata": {
    "collapsed": false,
    "pycharm": {
     "name": "#%%\n"
    }
   }
  },
  {
   "cell_type": "code",
   "execution_count": 14,
   "outputs": [
    {
     "data": {
      "text/plain": "(12416, 4)"
     },
     "execution_count": 14,
     "metadata": {},
     "output_type": "execute_result"
    }
   ],
   "source": [
    "data.shape"
   ],
   "metadata": {
    "collapsed": false,
    "pycharm": {
     "name": "#%%\n"
    }
   }
  },
  {
   "cell_type": "code",
   "execution_count": 15,
   "outputs": [
    {
     "data": {
      "text/plain": "food                  1943\ndance                 1445\nbiography             1415\nscience               1400\nvlogs and travel      1352\nCar Manufacturing     1329\nmachine learning       692\ndeep learning          594\nmkbhd                  576\nbig data               568\nLeedcode               555\nfilm and animation     547\nName: category, dtype: int64"
     },
     "execution_count": 15,
     "metadata": {},
     "output_type": "execute_result"
    }
   ],
   "source": [
    "data['category'].value_counts()"
   ],
   "metadata": {
    "collapsed": false,
    "pycharm": {
     "name": "#%%\n"
    }
   }
  },
  {
   "cell_type": "code",
   "execution_count": 82,
   "outputs": [
    {
     "data": {
      "text/plain": "<Figure size 1080x576 with 1 Axes>",
      "image/png": "[encoded data removed]"
     },
     "metadata": {},
     "output_type": "display_data"
    }
   ],
   "source": [
    "plt.style.use('seaborn')\n",
    "plt.figure(figsize=(15,8))\n",
    "plt.title('Visualizing PreProcessed Data Categories')\n",
    "# x label\n",
    "plt.xlabel('Total Number of YouTube Videos Scraped')\n",
    "# y label\n",
    "plt.ylabel('Different Categories')\n",
    "hm=ax =sns.histplot(data=data, y=\"category\", bins=50)\n",
    "#sns.set(rc={'figure.figsize':(100,100)})\n",
    "figure=hm.get_figure()\n",
    "figure.savefig('/Users/sabareeswarans/Desktop/BD_Lab/BD_final/Analysis_Results/visualize.png',dpi=200)"
   ],
   "metadata": {
    "collapsed": false,
    "pycharm": {
     "name": "#%%\n"
    }
   }
  }
 ],
 "metadata": {
  "kernelspec": {
   "display_name": "Python 3",
   "language": "python",
   "name": "python3"
  },
  "language_info": {
   "codemirror_mode": {
    "name": "ipython",
    "version": 2
   },
   "file_extension": ".py",
   "mimetype": "text/x-python",
   "name": "python",
   "nbconvert_exporter": "python",
   "pygments_lexer": "ipython2",
   "version": "2.7.6"
  }
 },
 "nbformat": 4,
 "nbformat_minor": 0
}